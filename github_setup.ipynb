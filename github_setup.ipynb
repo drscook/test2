{
 "cells": [
  {
   "cell_type": "code",
   "execution_count": 7,
   "metadata": {
    "ExecuteTime": {
     "end_time": "2017-01-02T04:44:26.353396",
     "start_time": "2017-01-02T04:44:26.321876"
    },
    "collapsed": false,
    "run_control": {
     "frozen": false,
     "read_only": false
    },
    "scrolled": true
   },
   "outputs": [
    {
     "name": "stdout",
     "output_type": "stream",
     "text": [
      "RSA key exists\n",
      "\n",
      "Copy this public key to your github profile\n",
      "\n",
      "ssh-rsa AAAAB3NzaC1yc2EAAAADAQABAAACAQDaZ0N03VXt959ulsGajM+mlp8lCgLdlfwnucPCxUVEYO2EhilxyjFlKIinOyz1A7+tfeF1cX8Jyu2FCzfWX/1e5TqjeqdykNV8iqMa64hK97Mwcw3hrOtu1Rofvv2LXmo76qTXDQuRLqam1sVe7eYuYtyhUe5AQaeaab/a0h5ggl3galJ8s7SXzd4vRfHLmZZwH0TvzqX+dlAoejmwjk8CD7LrPmP41lvaIOsCKVuL4H+d+QaB4ryFirWBcdT6pD51tH6W+eBCyGO2ENSt4pt/GvNZq8DwMN3gm52gOctmoPbgf3rb/iefzNLHoWbCH7cY0AGr5f9t5VgPxSUlBjFnJO91tO5kZR7wdEjplbeUTg6PHWdqyM0oNNxV8L0liogD0hSbf0Jn033ZyvIUlrtcbCp9BX6R9OXYbDt5hmzM/Tbx9F6NJAAGEQH7nIjueIR84hRtwAM2m8zlIzeSX3axYPjAFPJFAyGT5fYhf49y4a7ZoecFhiRpg3J5IxZzF+l1ZNB953zN6BZ7QFEpVJbgaHwW1s1VJ50jO3TVzyVjdGXlJ8QsWDaQVwVVzBfdfs6dcBX+KtiQO8S+NwyibAWN+ZBBnow13OYEtj/vRieSkCXN2oJdDJvbRN6CPuGx0MeAdHPKNny1LucqUEkQ4cS2deQsjWzwCI3HzYzuch/oDQ== scook@tarleton.edu\n",
      "\n"
     ]
    }
   ],
   "source": [
    "import os\n",
    "username = 'drscook'\n",
    "useremail = 'scook@tarleton.edu'\n",
    "os.system('git config --global --replace-all user.name ' + username)\n",
    "os.system('git config --global --replace-all user.email ' + useremail)\n",
    "\n",
    "rsafile = '/home/ubuntu/.ssh/id_rsa'\n",
    "if os.path.isfile(rsafile):\n",
    "    print('RSA key exists\\n')\n",
    "else:\n",
    "    os.system('ssh-keygen -t rsa -b 4096 -N \"\" -C ' + useremail + ' -f ' + rsafile)\n",
    "os.system('eval \"$(ssh-agent -s)\"')\n",
    "os.system('ssh-add ' + rsafile)\n",
    "print('Copy this public key to your github profile\\n')\n",
    "with open(rsafile + '.pub', 'r') as f:\n",
    "    print(f.read())"
   ]
  },
  {
   "cell_type": "code",
   "execution_count": 1,
   "metadata": {
    "ExecuteTime": {
     "end_time": "2017-01-02T04:47:20.178469",
     "start_time": "2017-01-02T04:47:18.808319"
    },
    "collapsed": false,
    "run_control": {
     "frozen": false,
     "read_only": false
    }
   },
   "outputs": [
    {
     "name": "stdout",
     "output_type": "stream",
     "text": [
      "Directory /home/ubuntu/notebooks/test2 already exists\n"
     ]
    },
    {
     "data": {
      "text/plain": [
       "0"
      ]
     },
     "execution_count": 1,
     "metadata": {},
     "output_type": "execute_result"
    }
   ],
   "source": [
    "import os\n",
    "gitdirname = '/home/ubuntu/notebooks/test2'\n",
    "url = 'git@github.com:drscook/test2.git'\n",
    "\n",
    "try:\n",
    "    os.mkdir(gitdirname)\n",
    "    print('Creating directory ' + gitdirname)\n",
    "except:\n",
    "    print('Directory ' + gitdirname + ' already exists')\n",
    "    pass\n",
    "os.chdir(gitdirname)\n",
    "os.system('git clone ' + url + ' .')\n",
    "os.system('git pull')\n",
    "testfile = gitdirname + '/testgit.md'\n",
    "with open(testfile, 'a') as f:\n",
    "    f.write(\"If you can read this, I can push to github\\n\\n\")\n",
    "os.system('git add ' + testfile)\n",
    "os.system('git commit -m \"Testing git write access\"')\n",
    "os.system('git push')"
   ]
  },
  {
   "cell_type": "code",
   "execution_count": 7,
   "metadata": {
    "ExecuteTime": {
     "end_time": "2017-01-02T05:08:29.163929",
     "start_time": "2017-01-02T05:08:27.838947"
    },
    "collapsed": false,
    "run_control": {
     "frozen": false,
     "read_only": false
    }
   },
   "outputs": [
    {
     "data": {
      "text/plain": [
       "0"
      ]
     },
     "execution_count": 7,
     "metadata": {},
     "output_type": "execute_result"
    }
   ],
   "source": [
    "msg = '\"Testing git write access\"'\n",
    "os.system('git add *.ipynb')\n",
    "os.system('git add *.html')\n",
    "os.system('git commit -m ' + msg)\n",
    "os.system('git push')"
   ]
  },
  {
   "cell_type": "code",
   "execution_count": null,
   "metadata": {
    "collapsed": true,
    "run_control": {
     "frozen": false,
     "read_only": false
    }
   },
   "outputs": [],
   "source": [
    "with open()"
   ]
  },
  {
   "cell_type": "code",
   "execution_count": 38,
   "metadata": {
    "ExecuteTime": {
     "end_time": "2017-01-02T02:59:08.858255",
     "start_time": "2017-01-02T02:59:08.853115"
    },
    "collapsed": false,
    "run_control": {
     "frozen": false,
     "read_only": false
    }
   },
   "outputs": [
    {
     "data": {
      "text/plain": [
       "True"
      ]
     },
     "execution_count": 38,
     "metadata": {},
     "output_type": "execute_result"
    }
   ],
   "source": [
    "os.path.isfile(\"/home/ubuntu/.ssh/id_rsa\")"
   ]
  },
  {
   "cell_type": "code",
   "execution_count": 5,
   "metadata": {
    "ExecuteTime": {
     "end_time": "2017-01-02T04:49:45.576778",
     "start_time": "2017-01-02T04:49:45.573129"
    },
    "collapsed": true,
    "run_control": {
     "frozen": false,
     "read_only": false
    }
   },
   "outputs": [],
   "source": [
    "a=4"
   ]
  },
  {
   "cell_type": "markdown",
   "metadata": {
    "run_control": {
     "frozen": false,
     "read_only": false
    },
    "variables": {
     "a": "4"
    }
   },
   "source": [
    "a = {{a}}"
   ]
  },
  {
   "cell_type": "markdown",
   "metadata": {
    "run_control": {
     "frozen": false,
     "read_only": false
    }
   },
   "source": [
    "https://help.github.com/articles/generating-an-ssh-key/\n",
    "http://stackoverflow.com/questions/6565357/git-push-requires-username-and-password\n"
   ]
  },
  {
   "cell_type": "markdown",
   "metadata": {
    "run_control": {
     "frozen": false,
     "read_only": false
    }
   },
   "source": [
    "create and cd into desired directory\n",
    "git init\n"
   ]
  },
  {
   "cell_type": "code",
   "execution_count": null,
   "metadata": {
    "collapsed": true,
    "run_control": {
     "frozen": false,
     "read_only": false
    }
   },
   "outputs": [],
   "source": [
    "git commit -am.\n",
    "git push"
   ]
  }
 ],
 "metadata": {
  "anaconda-cloud": {},
  "kernelspec": {
   "display_name": "Python [default]",
   "language": "python",
   "name": "python3"
  },
  "language_info": {
   "codemirror_mode": {
    "name": "ipython",
    "version": 3
   },
   "file_extension": ".py",
   "mimetype": "text/x-python",
   "name": "python",
   "nbconvert_exporter": "python",
   "pygments_lexer": "ipython3",
   "version": "3.5.2"
  },
  "latex_envs": {
   "LaTeX_envs_menu_present": true,
   "bibliofile": "biblio.bib",
   "cite_by": "apalike",
   "current_citInitial": 1,
   "eqLabelWithNumbers": true,
   "eqNumInitial": 1,
   "labels_anchors": false,
   "latex_user_defs": false,
   "report_style_numbering": false,
   "user_envs_cfg": false
  },
  "toc": {
   "colors": {
    "hover_highlight": "#DAA520",
    "running_highlight": "#FF0000",
    "selected_highlight": "#FFD700"
   },
   "moveMenuLeft": true,
   "nav_menu": {
    "height": "12px",
    "width": "252px"
   },
   "navigate_menu": true,
   "number_sections": true,
   "sideBar": true,
   "threshold": 4,
   "toc_cell": false,
   "toc_section_display": "block",
   "toc_window_display": false
  }
 },
 "nbformat": 4,
 "nbformat_minor": 1
}
