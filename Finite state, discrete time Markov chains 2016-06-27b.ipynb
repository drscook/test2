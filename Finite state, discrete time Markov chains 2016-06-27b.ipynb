{
 "cells": [
  {
   "cell_type": "code",
   "execution_count": 1,
   "metadata": {
    "collapsed": false
   },
   "outputs": [],
   "source": [
    "from IPython.display import display, Latex, Math, Markdown\n",
    "import numpy as np\n",
    "import sympy as sym\n",
    "import matplotlib\n",
    "import matplotlib.pyplot as plt\n",
    "%matplotlib inline\n",
    "sym.init_printing()\n",
    "\n",
    "def printltx(s):\n",
    "    try:\n",
    "        display(Latex(s))\n",
    "    except:\n",
    "        print(s)\n",
    "\n",
    "def ltxmtx(A,axis=1):\n",
    "    #print(\"pretty latex printing\")\n",
    "    try:\n",
    "        if isinstance(A,list):\n",
    "            A = np.array(A)        \n",
    "        if isinstance(A,np.ndarray):\n",
    "            A = A.round(4)            \n",
    "        M  = sym.Matrix(A.tolist())\n",
    "        sh = np.array(M.shape)\n",
    "        sz = np.prod(sh)\n",
    "        if sz == np.max(sh):\n",
    "            if axis == 0:\n",
    "                M=M.reshape(sz,1)\n",
    "            else:\n",
    "                M=M.reshape(1,sz)\n",
    "        return \" $\"+sym.latex(M)+\"$ \"\n",
    "    except:\n",
    "        #print(\"Can not pretty latex print\")\n",
    "        return A\n",
    "\n",
    "array_f = get_ipython().display_formatter.formatters['text/latex']\n",
    "array_f.for_type('numpy.ndarray',ltxmtx)\n",
    "array_f.for_type('sympy.matrices.dense.MutableDenseMatrix',ltxmtx)\n"
   ]
  },
  {
   "cell_type": "code",
   "execution_count": 2,
   "metadata": {
    "collapsed": false
   },
   "outputs": [],
   "source": [
    "from math import gcd\n",
    "from functools import reduce\n",
    "\n",
    "def initial_checks(P,phi):\n",
    "    States = P.shape[0]\n",
    "    printltx(r\"Transition matrix is $P=$\"+ltxmtx(P))\n",
    "    printltx(r\"Initial distribution $\\phi=$\"+ltxmtx(phi))    \n",
    "    if phi.shape[0] != States:\n",
    "        raise Exception(\"Transition matrix and initial distribution dimensions don't match\")\n",
    "    row_sums = np.sum(P,1)\n",
    "    should_be = np.ones_like(row_sums)\n",
    "    if np.allclose(row_sums,should_be) == False:\n",
    "            raise Exception(\"Rows of transition matrix do not all sum to 1\")\n",
    "    return\n",
    "\n",
    "def compute_absorbed_proportions(v,states_in_rec_classes=[]):\n",
    "    if states_in_rec_classes == []:\n",
    "        ap = [1.0]\n",
    "    else:\n",
    "        ap = [np.sum(v[states]) for states in states_in_rec_classes]\n",
    "    return np.array(ap)\n",
    "\n",
    "def plot_absorption(absorption_proportions,tol=0.001):\n",
    "    absorption_proportions = np.array(absorption_proportions)\n",
    "    absorbed_cumulative = np.sum(absorption_proportions,axis=1) #total absorbed by all recurrence classes\n",
    "    absorbed_cumulative = absorbed_cumulative[absorbed_cumulative<1-tol] #Remove tail, if simulation continued to run after complete absorption\n",
    "    absorbed_cumulative = np.append(absorbed_cumulative,1.0) #append 1.0 to end\n",
    "    absorbed_marginal = np.diff(absorbed_cumulative) #find \"newly\" absorbed proportion at each step\n",
    "    absorbed_marginal = np.insert(absorbed_marginal,0,absorbed_cumulative[0]) #np.diff shrinks array by 1 entry.  Prepend 0.0\n",
    "    times = np.arange(absorbed_marginal.shape[0])\n",
    "    printltx(r\"Absorbed proportions (by recurrence class) \"+ltxmtx(absorption_proportions[-1]))\n",
    "    plt.bar(times,absorbed_marginal)\n",
    "    plt.show()\n",
    "    ave = absorbed_marginal.dot(times)\n",
    "    printltx(r\"Mean absorption time is \"+str(ave))\n",
    "    return\n",
    "\n",
    "def simulate_samples(P,phi,Steps=500,Records=10,Samples=1000,states_in_rec_classes=[],tol=0.001):\n",
    "    \"\"\"\n",
    "    Evolves the system by simulating many sample paths\n",
    "    \"\"\"\n",
    "    States = P.shape[0]\n",
    "    print(\"\\n\")\n",
    "    printltx(r\"Simulating \"+str(Steps)+\" steps with \"+str(Samples)+\" samples.\")    \n",
    "    epdf = np.zeros([Records,States],dtype=float)\n",
    "    epdf[0,:] = phi[:]\n",
    "    ap = compute_absorbed_proportions(phi,states_in_rec_classes)\n",
    "    absorption_proportions = [ap]\n",
    "    #There is a nuance here.  For epdf, we only keep the most Records distributions.\n",
    "    #We really don't need to full prior history, so this help us conserve memory.\n",
    "    #However we really DO need the full history of absorption_proportions, because\n",
    "    #we want to plot the full distribution, over ALL time.\n",
    "    #The problem is that we don't actually know how many steps it will take for complete\n",
    "    #(or almost complete) absorption.  So, we cannot pre-allocate the size of \n",
    "    #absorption_propotions (coontrasts to epdf, where we can pre-allocate).\n",
    "    #Therefore, we are stuck \"growing the array\" (as far as I can tell).\n",
    "    #This raises the question - Is it better to grow the array using numpy.append\n",
    "    #or list.append?  I am not certain.  The numpy.append command is very clear\n",
    "    #that this makes a COPY each time, which may hurt performance.  I can not\n",
    "    #tell if list.append also makes a new copy, or appends to the existing list.\n",
    "    #I will use the list route here, but we be very happy if someone can definitively answer\n",
    "    #this question.\n",
    "\n",
    "    y = np.rint(phi*Samples).astype(int)\n",
    "    Samples = np.sum(y)\n",
    "    X = np.zeros([Records,Samples],dtype=int)\n",
    "    X[0,:] = np.random.choice(States,Samples,p=phi)\n",
    "\n",
    "    #for step in range(Steps):\n",
    "    step = 0    \n",
    "    while (step < Steps) | (np.sum(ap) < 1-tol):\n",
    "        #Because we are not keeping the entire history, we loop repeatedly through the\n",
    "        #same array, overwriting old states. We move down the rows of X until we hit\n",
    "        #the bottom.  Then we jump back to the top and overwrite existing arrays.\n",
    "        #The % operator does modular division and accomplishes the necessary looping.\n",
    "        current_step = step%Records\n",
    "        next_step = (step+1)%Records\n",
    "        for samp in range(Samples):\n",
    "            current_state = X[current_step,samp]\n",
    "            r = np.random.rand()\n",
    "            for next_state in range(States):\n",
    "                r -= P[current_state,next_state]\n",
    "                if r < 0:\n",
    "                    X[next_step,samp] = next_state\n",
    "                    break\n",
    "        v = np.histogram(X[next_step,:],normed=True,bins=range(States+1))[0]\n",
    "        epdf[next_step,:] = v\n",
    "        ap = compute_absorbed_proportions(v,states_in_rec_classes)\n",
    "        absorption_proportions.append(ap)\n",
    "        step+=1\n",
    "        \n",
    "    #The last distribution is not necessarily on the bottom of epdf.  Next line fixes that.    \n",
    "    epdf = np.roll(epdf,Records-next_step-1,axis=0)\n",
    "    printltx(r\"I did \"+str(Steps)+\" steps with \"+str(Samples)+\" samples.  The last \"+str(Records)+\" distributions are written as rows below.\")    \n",
    "    display(epdf)\n",
    "    printltx(r\"The average of these distributions is \"+ltxmtx(np.mean(epdf,0)))\n",
    "    plot_absorption(absorption_proportions,tol=tol)\n",
    "    return \n",
    "\n",
    "def matrix_evolution(P,phi,Steps=500,Records=10,states_in_rec_classes=[],tol=0.001):\n",
    "    \"\"\"\n",
    "    Evolves the system via matrix multiplication\n",
    "    \"\"\"\n",
    "    States = P.shape[0]\n",
    "    print(\"\\n\")\n",
    "    printltx(r\"Evolving \"+str(Steps)+\" steps via matrix multiplication.\")\n",
    "    tpdf = np.zeros([Records,States],dtype=float)\n",
    "    tpdf[0,:] = phi[:]\n",
    "    ap = compute_absorbed_proportions(phi,states_in_rec_classes)\n",
    "    absorption_proportions = [ap]\n",
    "    #see comments in corresponding position in simulate_samples\n",
    "    \n",
    "    #for step in range(Steps):\n",
    "    step = 0    \n",
    "    while (step < Steps) | (np.sum(ap) < 1-tol):\n",
    "        current_step = step%Records\n",
    "        next_step = (step+1)%Records\n",
    "        tpdf[next_step,:] = tpdf[current_step,:].dot(P)\n",
    "\n",
    "        ap = compute_absorbed_proportions(tpdf[next_step,:],states_in_rec_classes)\n",
    "        absorption_proportions.append(ap)\n",
    "        step+=1\n",
    "\n",
    "    #The last distribution is not necessarily on the bottom of epdf.  Next line fixes that.    \n",
    "    tpdf = np.roll(tpdf,Records-next_step-1,axis=0)\n",
    "    printltx(r\"I did \"+str(Steps)+\" steps.  The last \"+str(Records)+\" distributions are written as rows below.\")\n",
    "    display(tpdf)\n",
    "    printltx(r\"The average of these distributions is \"+ltxmtx(np.mean(tpdf,0)))\n",
    "    plot_absorption(absorption_proportions,tol=tol)\n",
    "    return\n",
    "\n",
    "def support(v):\n",
    "    return np.nonzero(v)[0]    \n",
    "\n",
    "def normalize_vec(v):\n",
    "    tol = 0.001\n",
    "    s = np.sum(v)\n",
    "    if np.abs(s)<tol:\n",
    "        s = v[support(v)][0] #if row sums to 0, divide by leftmost nonzero entry    \n",
    "    return v/s\n",
    "\n",
    "def normalize_rows(P):\n",
    "    return np.apply_along_axis(normalize_vec,1,P)\n",
    "    \n",
    "def eigen_future(P,phi):\n",
    "    \"\"\"\n",
    "    Long term behavior via eigenvectors and eigenvalues\n",
    "    \"\"\"\n",
    "    States = P.shape[0]\n",
    "    print(\"\\n\")\n",
    "    printltx(r\"Using eigenvectors and eigenvalues to find long term behavior.\")\n",
    "    (evals,LT) = np.linalg.eig(P.T)\n",
    "    L = LT.T    \n",
    "    \n",
    "    #We'd like to sort things nicely.  First, we want to sort by eval length, largest first.\n",
    "    #Then we'll break ties by real part, largest first\n",
    "    #Then we'll break ties by imaginary part, largest first\n",
    "    #Finally, we'll break ties by the smallest label on states in the support of the corresponding evec, smallest first.\n",
    "    #This sort is basically optional - it just makes the results a bit easier to interpret.\n",
    "    Len = np.abs(evals).round(4) #Must round, else evals of same true legnth may appear to be of different lengths    \n",
    "    Re = np.real(evals).round(4)\n",
    "    Im = np.imag(evals).round(4)    \n",
    "    Fs = [States-support(v)[0] for v in L] #Gets the smallest label of states in the support of the evec.\n",
    "    #We do use \"States-___\", because we will reverse everything below, but we want smallest first on this part.\n",
    "    sort = np.lexsort([Fs,Im,Re,Len]) #sort priority goes right to left, for some reason\n",
    "    sort = sort[::-1] #lexsort does ascending sort.  This changes to descending, as desired\n",
    "    evals = evals[sort]\n",
    "    L = L[sort]\n",
    "    Len = Len[sort]\n",
    "    Re = Re[sort]\n",
    "    Im = Im[sort]\n",
    "    \n",
    "    L = normalize_rows(L)\n",
    "    R = np.linalg.inv(L)\n",
    "    D = np.diag(evals)\n",
    "    printltx(r\"left eigenvectors = rows of \"+ltxmtx(L)+\",  $\\lambda =$\"+ltxmtx(evals,0)+\",  $| \\lambda | =$\"+ltxmtx(np.abs(evals),0))\n",
    "\n",
    "    evals_live = evals.copy()\n",
    "    evals_live[Len<1] = 0    \n",
    "    vanish = L[Len<1]\n",
    "    invar = L[Re>=1]\n",
    "    persist = L[(Len>=1) & (Re<1)]\n",
    "    \n",
    "    num_rec_classes = invar.shape[0]\n",
    "    states_in_rec_class = [support(pi).tolist() for pi in invar]\n",
    "    persist_in_rec_class = [[] for r in invar]\n",
    "    for (p,vec) in enumerate(persist):\n",
    "        for cl,st in enumerate(states_in_rec_class):\n",
    "            if set(support(vec)).issubset(set(st)):\n",
    "                persist_in_rec_class[cl].append(p)\n",
    "                break\n",
    "    period_of_rec_class = [1+len(per) for per in persist_in_rec_class]\n",
    "\n",
    "    recurrent_states = np.hstack(states_in_rec_class)\n",
    "    all_states = set(range(States))    \n",
    "    transient_states = all_states - set(recurrent_states)\n",
    "    transient_states = np.array(sorted(transient_states),dtype=int)\n",
    "    num_recurrent_states = len(recurrent_states)\n",
    "    num_transient_states = len(transient_states)    \n",
    "\n",
    "    for (cl,states) in enumerate(states_in_rec_class):\n",
    "        period = period_of_rec_class[cl]\n",
    "        print(\"\\n\\n\")\n",
    "        printltx(r\"Recurrence Class \"+str(cl))\n",
    "        printltx(r\"States = \"+ltxmtx(states))        \n",
    "        printltx(\"Period = \"+str(period))\n",
    "        printltx(r\"The stationary/invariant distribution for this recurrence class is:\")\n",
    "        printltx(r\"$\\vec{\\pi} = $\"+ltxmtx(invar[cl]))\n",
    "        if period > 1:\n",
    "            printltx(\"Other persistent eigenvectors for this recurrence class are:\")\n",
    "            for per in persist_in_rec_class[cl]:\n",
    "                printltx(r\"$\\vec{v} = $\"+ltxmtx(persist[per]))    \n",
    "    print(\"\\n\\n\")\n",
    "    printltx(r\"Transient States\")\n",
    "    printltx(r\"States \"+ltxmtx(transient_states))\n",
    "    if vanish.shape[0]>0:\n",
    "        printltx(r\"Vanishing eigenvectors are:\")\n",
    "        for v in vanish:\n",
    "            printltx(r\"$\\vec{v} = $\"+ltxmtx(v))\n",
    "\n",
    "    if num_rec_classes == 1:\n",
    "        period_of_chain = period_of_rec_class[0]\n",
    "    else:\n",
    "        gcd_periods = reduce(gcd,period_of_rec_class)\n",
    "        period_of_chain = int(np.prod(period_of_rec_class)/gcd_periods)        \n",
    "    \n",
    "    pdf = np.zeros([period_of_chain,States])\n",
    "    Dp = np.diag(evals_live)    \n",
    "    for step in range(period_of_chain):\n",
    "        pdf[step,:] = phi.dot(R).dot(Dp**(step+1)).dot(L)\n",
    "    printltx(r\"The analysis via eigenvectors says that, in the long run, this system should osciliate through the \"+str(period_of_chain)+\" distributions below.\")\n",
    "    display(pdf)\n",
    "    printltx(r\"The average of these distributions is \"+ltxmtx(np.mean(pdf,0)))\n",
    "\n",
    "    perm = np.hstack([recurrent_states,transient_states])    \n",
    "    Pbar = P.copy()\n",
    "    Pbar = Pbar[perm,:]\n",
    "    Pbar = Pbar[:,perm]    \n",
    "    \n",
    "    R = Pbar[:num_recurrent_states:,:num_recurrent_states]\n",
    "    S = Pbar[num_recurrent_states:,:num_recurrent_states]\n",
    "    Q = Pbar[num_recurrent_states:,num_recurrent_states:]\n",
    "    Z = Pbar[:num_recurrent_states,num_recurrent_states:]\n",
    "    \n",
    "    I = np.eye(Q.shape[0])\n",
    "    M = np.linalg.inv(I-Q)\n",
    "    WhenAbsorbed = np.sum(M,axis=1)\n",
    "    WhereAbsorbed = M.dot(S)\n",
    "    WhereAbsorbedContracted = np.zeros([num_transient_states,num_rec_classes])\n",
    "    start = 0\n",
    "    end = 0\n",
    "    for (cl,states) in enumerate(states_in_rec_class):\n",
    "        start = end\n",
    "        end += len(states)\n",
    "        WhereAbsorbedContracted[:,cl] = np.sum(WhereAbsorbed[:,start:end],axis=1)\n",
    "    \n",
    "    print(\"\\n\\n\")\n",
    "    printltx(r\"Now we relabel the states so that recurrence classes are together and transient states are last.\")\n",
    "    printltx(r\"Here is the relabelling \"+ltxmtx(perm,0)+\" $\\mapsto$ \"+ltxmtx(np.arange(States),0))\n",
    "    printltx(r\"This permutes the rows and columns of $P$ into $\\bar{P}=$ \"+ltxmtx(Pbar))\n",
    "    printltx(r\"The following top, left submatrix corresponds to recurrent $\\to$ recurrent transitions $R=$ \"+ltxmtx(R))\n",
    "    printltx(r\"The following bottom, left submatrix corresponds to transient $\\to$ recurrent transitions $S=$ \"+ltxmtx(S))\n",
    "    printltx(r\"The following bottom, right submatrix corresponds to transient $\\to$ transient transitions $Q=$ \"+ltxmtx(Q))\n",
    "    printltx(r\"The following top, right submatrix corresponds to recurrent $\\to$ transient transitions $Z=$ \"+ltxmtx(Z))\n",
    "    printltx(r\"The matrix directly above had better contain all zeros.\")\n",
    "    printltx(r\"As stated in Lawler, we compute $M=(I-Q)^{-1}=$ \"+ltxmtx(M))\n",
    "    printltx(r\"The $(i,j)$ entry of $M$ is the expected number of visits to state $j+\"+str(num_recurrent_states)+\"$ (transient) if chain starts at state $i+\"+str(num_recurrent_states)+\"$ (transient).\")\n",
    "    printltx(r\"So the sum across row $i$ is the expected absorption time if chain starts at state $i$\")\n",
    "    printltx(r\"I compute these expected absorption times to be \"+ltxmtx(WhenAbsorbed,0))\n",
    "    printltx(r\"Now, for absorption probabilities.  As stated in Lawler, the $(i,j)$ entry of $MS$ is the probability of absorption at state $j$ (recurrent) if chain starts at state $i+\"+str(num_recurrent_states)+\"$ (transient).\")\n",
    "    printltx(r\"I compute these absorption probabilities to be \"+ltxmtx(WhereAbsorbed))\n",
    "    printltx(r\"If we contract recurrent classes, this becomes\"+ltxmtx(WhereAbsorbedContracted))\n",
    "    printltx(r\"Where the $(i,j)$ entry is the probability of absorption into recurrence class $j$ if chain starts if chain starts at state $i+\"+str(num_recurrent_states)+\"$ (transient).\")\n",
    "    return "
   ]
  },
  {
   "cell_type": "code",
   "execution_count": null,
   "metadata": {
    "collapsed": false,
    "scrolled": false
   },
   "outputs": [
    {
     "data": {
      "text/latex": [
       "Transition matrix is $P=$ $\\left[\\begin{matrix}0.0 & 0.5 & 0.0 & 0.5 & 0.0 & 0.0 & 0.0 & 0.0 & 0.0\\\\0.3333 & 0.0 & 0.3333 & 0.0 & 0.3333 & 0.0 & 0.0 & 0.0 & 0.0\\\\0.0 & 0.5 & 0.0 & 0.0 & 0.0 & 0.5 & 0.0 & 0.0 & 0.0\\\\0.3333 & 0.0 & 0.0 & 0.0 & 0.3333 & 0.0 & 0.3333 & 0.0 & 0.0\\\\0.0 & 0.25 & 0.0 & 0.25 & 0.0 & 0.25 & 0.0 & 0.25 & 0.0\\\\0.0 & 0.0 & 0.3333 & 0.0 & 0.3333 & 0.0 & 0.0 & 0.0 & 0.3333\\\\0.0 & 0.0 & 0.0 & 0.0 & 0.0 & 0.0 & 1.0 & 0.0 & 0.0\\\\0.0 & 0.0 & 0.0 & 0.0 & 0.3333 & 0.0 & 0.3333 & 0.0 & 0.3333\\\\0.0 & 0.0 & 0.0 & 0.0 & 0.0 & 0.0 & 0.0 & 0.0 & 1.0\\end{matrix}\\right]$ "
      ],
      "text/plain": [
       "<IPython.core.display.Latex object>"
      ]
     },
     "metadata": {},
     "output_type": "display_data"
    },
    {
     "data": {
      "text/latex": [
       "Initial distribution $\\phi=$ $\\left[\\begin{matrix}1.0 & 0.0 & 0.0 & 0.0 & 0.0 & 0.0 & 0.0 & 0.0 & 0.0\\end{matrix}\\right]$ "
      ],
      "text/plain": [
       "<IPython.core.display.Latex object>"
      ]
     },
     "metadata": {},
     "output_type": "display_data"
    },
    {
     "name": "stdout",
     "output_type": "stream",
     "text": [
      "\n",
      "\n"
     ]
    },
    {
     "data": {
      "text/latex": [
       "Simulating 500 steps with 1000 samples."
      ],
      "text/plain": [
       "<IPython.core.display.Latex object>"
      ]
     },
     "metadata": {},
     "output_type": "display_data"
    }
   ],
   "source": [
    "P = np.array([[0,0,0,1,0,0,0],\n",
    "              [0,0,1,1,0,1,1],\n",
    "              [0,0,0,0,1,0,0],\n",
    "              [1,0,0,0,0,0,0],\n",
    "              [0,0,0,0,0,1,0],\n",
    "              [0,0,1,0,0,0,0],\n",
    "              [1,1,0,0,0,0,0]\n",
    "              ])\n",
    "P = np.array([[0,1,0,1,0,0,0,0,0],\n",
    "              [1,0,1,0,1,0,0,0,0],\n",
    "              [0,1,0,0,0,1,0,0,0],\n",
    "              [1,0,0,0,1,0,1,0,0],\n",
    "              [0,1,0,1,0,1,0,1,0],\n",
    "              [0,0,1,0,1,0,0,0,1],\n",
    "              [0,0,0,0,0,0,1,0,0],\n",
    "              [0,0,0,0,1,0,1,0,1],\n",
    "              [0,0,0,0,0,0,0,0,1]\n",
    "              ])\n",
    "P = normalize_rows(P)\n",
    "States = P.shape[0]\n",
    "phi = np.zeros([States])\n",
    "phi[0] = 1\n",
    "Steps = 500 #total number of steps to take\n",
    "Records = 10 #To manage memory, we don't keep the entire history of the system.  We keep\n",
    "#the most recent \"Records\" states.\n",
    "Samples = 1000\n",
    "tol = 0.0001\n",
    "states_in_rec_classes = [[0,3],[2,4,5]]\n",
    "\n",
    "initial_checks(P,phi)\n",
    "simulate_samples(P,phi,Steps=Steps,Records=Records,states_in_rec_classes=states_in_rec_classes,tol=tol,Samples=Samples)\n",
    "matrix_evolution(P,phi,Steps=Steps,Records=Records,states_in_rec_classes=states_in_rec_classes,tol=tol)\n",
    "eigen_future(P,phi)"
   ]
  },
  {
   "cell_type": "code",
   "execution_count": 4,
   "metadata": {
    "collapsed": false,
    "scrolled": false
   },
   "outputs": [
    {
     "name": "stdout",
     "output_type": "stream",
     "text": [
      "\n",
      "\n",
      "Doing absorbing boundary condition\n"
     ]
    },
    {
     "data": {
      "text/latex": [
       "Transition matrix is $P=$ $\\left[\\begin{matrix}1.0 & 0.0 & 0.0 & 0.0 & 0.0\\\\0.4 & 0.0 & 0.6 & 0.0 & 0.0\\\\0.0 & 0.4 & 0.0 & 0.6 & 0.0\\\\0.0 & 0.0 & 0.4 & 0.0 & 0.6\\\\0.0 & 0.0 & 0.0 & 0.0 & 1.0\\end{matrix}\\right]$ "
      ],
      "text/plain": [
       "<IPython.core.display.Latex object>"
      ]
     },
     "metadata": {},
     "output_type": "display_data"
    },
    {
     "data": {
      "text/latex": [
       "Initial distribution $\\phi=$ $\\left[\\begin{matrix}0.0 & 0.0 & 1.0 & 0.0 & 0.0\\end{matrix}\\right]$ "
      ],
      "text/plain": [
       "<IPython.core.display.Latex object>"
      ]
     },
     "metadata": {},
     "output_type": "display_data"
    },
    {
     "name": "stdout",
     "output_type": "stream",
     "text": [
      "\n",
      "\n"
     ]
    },
    {
     "data": {
      "text/latex": [
       "Simulating 500 steps with 5000 samples."
      ],
      "text/plain": [
       "<IPython.core.display.Latex object>"
      ]
     },
     "metadata": {},
     "output_type": "display_data"
    },
    {
     "data": {
      "text/latex": [
       "I did 500 steps with 5000 samples.  The last 10 distributions are written as rows below."
      ],
      "text/plain": [
       "<IPython.core.display.Latex object>"
      ]
     },
     "metadata": {},
     "output_type": "display_data"
    },
    {
     "data": {
      "text/latex": [
       " $\\left[\\begin{matrix}0.2962 & 0.0 & 0.0 & 0.0 & 0.7038\\\\0.2962 & 0.0 & 0.0 & 0.0 & 0.7038\\\\0.2962 & 0.0 & 0.0 & 0.0 & 0.7038\\\\0.2962 & 0.0 & 0.0 & 0.0 & 0.7038\\\\0.2962 & 0.0 & 0.0 & 0.0 & 0.7038\\\\0.2962 & 0.0 & 0.0 & 0.0 & 0.7038\\\\0.2962 & 0.0 & 0.0 & 0.0 & 0.7038\\\\0.2962 & 0.0 & 0.0 & 0.0 & 0.7038\\\\0.2962 & 0.0 & 0.0 & 0.0 & 0.7038\\\\0.2962 & 0.0 & 0.0 & 0.0 & 0.7038\\end{matrix}\\right]$ "
      ],
      "text/plain": [
       "array([[ 0.2962,  0.    ,  0.    ,  0.    ,  0.7038],\n",
       "       [ 0.2962,  0.    ,  0.    ,  0.    ,  0.7038],\n",
       "       [ 0.2962,  0.    ,  0.    ,  0.    ,  0.7038],\n",
       "       [ 0.2962,  0.    ,  0.    ,  0.    ,  0.7038],\n",
       "       [ 0.2962,  0.    ,  0.    ,  0.    ,  0.7038],\n",
       "       [ 0.2962,  0.    ,  0.    ,  0.    ,  0.7038],\n",
       "       [ 0.2962,  0.    ,  0.    ,  0.    ,  0.7038],\n",
       "       [ 0.2962,  0.    ,  0.    ,  0.    ,  0.7038],\n",
       "       [ 0.2962,  0.    ,  0.    ,  0.    ,  0.7038],\n",
       "       [ 0.2962,  0.    ,  0.    ,  0.    ,  0.7038]])"
      ]
     },
     "metadata": {},
     "output_type": "display_data"
    },
    {
     "data": {
      "text/latex": [
       "The average of these distributions is  $\\left[\\begin{matrix}0.2962 & 0.0 & 0.0 & 0.0 & 0.7038\\end{matrix}\\right]$ "
      ],
      "text/plain": [
       "<IPython.core.display.Latex object>"
      ]
     },
     "metadata": {},
     "output_type": "display_data"
    },
    {
     "data": {
      "text/latex": [
       "Absorbed proportions (by recurrence class)  $\\left[\\begin{matrix}0.2962 & 0.7038\\end{matrix}\\right]$ "
      ],
      "text/plain": [
       "<IPython.core.display.Latex object>"
      ]
     },
     "metadata": {},
     "output_type": "display_data"
    },
    {
     "data": {
      "image/png": "[encoded data removed]",
      "text/plain": [
       "<matplotlib.figure.Figure at 0x454e470>"
      ]
     },
     "metadata": {},
     "output_type": "display_data"
    },
    {
     "data": {
      "text/latex": [
       "Mean absorption time is 3.8508"
      ],
      "text/plain": [
       "<IPython.core.display.Latex object>"
      ]
     },
     "metadata": {},
     "output_type": "display_data"
    },
    {
     "name": "stdout",
     "output_type": "stream",
     "text": [
      "\n",
      "\n"
     ]
    },
    {
     "data": {
      "text/latex": [
       "Evolving 500 steps via matrix multiplication."
      ],
      "text/plain": [
       "<IPython.core.display.Latex object>"
      ]
     },
     "metadata": {},
     "output_type": "display_data"
    },
    {
     "data": {
      "text/latex": [
       "I did 500 steps.  The last 10 distributions are written as rows below."
      ],
      "text/plain": [
       "<IPython.core.display.Latex object>"
      ]
     },
     "metadata": {},
     "output_type": "display_data"
    },
    {
     "data": {
      "text/latex": [
       " $\\left[\\begin{matrix}0.3077 & 0.0 & 0.0 & 0.0 & 0.6923\\\\0.3077 & 0.0 & 0.0 & 0.0 & 0.6923\\\\0.3077 & 0.0 & 0.0 & 0.0 & 0.6923\\\\0.3077 & 0.0 & 0.0 & 0.0 & 0.6923\\\\0.3077 & 0.0 & 0.0 & 0.0 & 0.6923\\\\0.3077 & 0.0 & 0.0 & 0.0 & 0.6923\\\\0.3077 & 0.0 & 0.0 & 0.0 & 0.6923\\\\0.3077 & 0.0 & 0.0 & 0.0 & 0.6923\\\\0.3077 & 0.0 & 0.0 & 0.0 & 0.6923\\\\0.3077 & 0.0 & 0.0 & 0.0 & 0.6923\\end{matrix}\\right]$ "
      ],
      "text/plain": [
       "array([[  3.07692308e-01,   3.20747403e-79,   0.00000000e+00,\n",
       "          4.81121104e-79,   6.92307692e-01],\n",
       "       [  3.07692308e-01,   0.00000000e+00,   3.84896883e-79,\n",
       "          0.00000000e+00,   6.92307692e-01],\n",
       "       [  3.07692308e-01,   1.53958753e-79,   0.00000000e+00,\n",
       "          2.30938130e-79,   6.92307692e-01],\n",
       "       [  3.07692308e-01,   0.00000000e+00,   1.84750504e-79,\n",
       "          0.00000000e+00,   6.92307692e-01],\n",
       "       [  3.07692308e-01,   7.39002016e-80,   0.00000000e+00,\n",
       "          1.10850302e-79,   6.92307692e-01],\n",
       "       [  3.07692308e-01,   0.00000000e+00,   8.86802419e-80,\n",
       "          0.00000000e+00,   6.92307692e-01],\n",
       "       [  3.07692308e-01,   3.54720968e-80,   0.00000000e+00,\n",
       "          5.32081451e-80,   6.92307692e-01],\n",
       "       [  3.07692308e-01,   0.00000000e+00,   4.25665161e-80,\n",
       "          0.00000000e+00,   6.92307692e-01],\n",
       "       [  3.07692308e-01,   1.70266064e-80,   0.00000000e+00,\n",
       "          2.55399097e-80,   6.92307692e-01],\n",
       "       [  3.07692308e-01,   0.00000000e+00,   2.04319277e-80,\n",
       "          0.00000000e+00,   6.92307692e-01]])"
      ]
     },
     "metadata": {},
     "output_type": "display_data"
    },
    {
     "data": {
      "text/latex": [
       "The average of these distributions is  $\\left[\\begin{matrix}0.3077 & 0.0 & 0.0 & 0.0 & 0.6923\\end{matrix}\\right]$ "
      ],
      "text/plain": [
       "<IPython.core.display.Latex object>"
      ]
     },
     "metadata": {},
     "output_type": "display_data"
    },
    {
     "data": {
      "text/latex": [
       "Absorbed proportions (by recurrence class)  $\\left[\\begin{matrix}0.3077 & 0.6923\\end{matrix}\\right]$ "
      ],
      "text/plain": [
       "<IPython.core.display.Latex object>"
      ]
     },
     "metadata": {},
     "output_type": "display_data"
    },
    {
     "data": {
      "image/png": "[encoded data removed]",
      "text/plain": [
       "<matplotlib.figure.Figure at 0x454e048>"
      ]
     },
     "metadata": {},
     "output_type": "display_data"
    },
    {
     "data": {
      "text/latex": [
       "Mean absorption time is 3.84587768491"
      ],
      "text/plain": [
       "<IPython.core.display.Latex object>"
      ]
     },
     "metadata": {},
     "output_type": "display_data"
    },
    {
     "name": "stdout",
     "output_type": "stream",
     "text": [
      "\n",
      "\n"
     ]
    },
    {
     "data": {
      "text/latex": [
       "Using eigenvectors and eigenvalues to find long term behavior."
      ],
      "text/plain": [
       "<IPython.core.display.Latex object>"
      ]
     },
     "metadata": {},
     "output_type": "display_data"
    },
    {
     "data": {
      "text/latex": [
       "left eigenvectors = rows of  $\\left[\\begin{matrix}1.0 & 0.0 & 0.0 & 0.0 & 0.0\\\\0.0 & 0.0 & 0.0 & 0.0 & 1.0\\\\1.0 & -0.7679 & -1.3301 & -1.1519 & 2.25\\\\1.0 & -4.2321 & 7.3301 & -6.3481 & 2.25\\\\1.0 & -2.5 & 0.0 & 3.75 & -2.25\\end{matrix}\\right]$ ,  $\\lambda =$ $\\left[\\begin{matrix}1.0\\\\1.0\\\\0.6928\\\\-0.6928\\\\0.0\\end{matrix}\\right]$ ,  $| \\lambda | =$ $\\left[\\begin{matrix}1.0\\\\1.0\\\\0.6928\\\\0.6928\\\\0.0\\end{matrix}\\right]$ "
      ],
      "text/plain": [
       "<IPython.core.display.Latex object>"
      ]
     },
     "metadata": {},
     "output_type": "display_data"
    },
    {
     "name": "stdout",
     "output_type": "stream",
     "text": [
      "\n",
      "\n",
      "\n"
     ]
    },
    {
     "data": {
      "text/latex": [
       "Recurrence Class 0"
      ],
      "text/plain": [
       "<IPython.core.display.Latex object>"
      ]
     },
     "metadata": {},
     "output_type": "display_data"
    },
    {
     "data": {
      "text/latex": [
       "States =  $\\left[\\begin{matrix}0\\end{matrix}\\right]$ "
      ],
      "text/plain": [
       "<IPython.core.display.Latex object>"
      ]
     },
     "metadata": {},
     "output_type": "display_data"
    },
    {
     "data": {
      "text/latex": [
       "Period = 1"
      ],
      "text/plain": [
       "<IPython.core.display.Latex object>"
      ]
     },
     "metadata": {},
     "output_type": "display_data"
    },
    {
     "data": {
      "text/latex": [
       "The stationary/invariant distribution for this recurrence class is:"
      ],
      "text/plain": [
       "<IPython.core.display.Latex object>"
      ]
     },
     "metadata": {},
     "output_type": "display_data"
    },
    {
     "data": {
      "text/latex": [
       "$\\vec{\\pi} = $ $\\left[\\begin{matrix}1.0 & 0.0 & 0.0 & 0.0 & 0.0\\end{matrix}\\right]$ "
      ],
      "text/plain": [
       "<IPython.core.display.Latex object>"
      ]
     },
     "metadata": {},
     "output_type": "display_data"
    },
    {
     "name": "stdout",
     "output_type": "stream",
     "text": [
      "\n",
      "\n",
      "\n"
     ]
    },
    {
     "data": {
      "text/latex": [
       "Recurrence Class 1"
      ],
      "text/plain": [
       "<IPython.core.display.Latex object>"
      ]
     },
     "metadata": {},
     "output_type": "display_data"
    },
    {
     "data": {
      "text/latex": [
       "States =  $\\left[\\begin{matrix}4\\end{matrix}\\right]$ "
      ],
      "text/plain": [
       "<IPython.core.display.Latex object>"
      ]
     },
     "metadata": {},
     "output_type": "display_data"
    },
    {
     "data": {
      "text/latex": [
       "Period = 1"
      ],
      "text/plain": [
       "<IPython.core.display.Latex object>"
      ]
     },
     "metadata": {},
     "output_type": "display_data"
    },
    {
     "data": {
      "text/latex": [
       "The stationary/invariant distribution for this recurrence class is:"
      ],
      "text/plain": [
       "<IPython.core.display.Latex object>"
      ]
     },
     "metadata": {},
     "output_type": "display_data"
    },
    {
     "data": {
      "text/latex": [
       "$\\vec{\\pi} = $ $\\left[\\begin{matrix}0.0 & 0.0 & 0.0 & 0.0 & 1.0\\end{matrix}\\right]$ "
      ],
      "text/plain": [
       "<IPython.core.display.Latex object>"
      ]
     },
     "metadata": {},
     "output_type": "display_data"
    },
    {
     "name": "stdout",
     "output_type": "stream",
     "text": [
      "\n",
      "\n",
      "\n"
     ]
    },
    {
     "data": {
      "text/latex": [
       "Transient States"
      ],
      "text/plain": [
       "<IPython.core.display.Latex object>"
      ]
     },
     "metadata": {},
     "output_type": "display_data"
    },
    {
     "data": {
      "text/latex": [
       "States  $\\left[\\begin{matrix}1 & 2 & 3\\end{matrix}\\right]$ "
      ],
      "text/plain": [
       "<IPython.core.display.Latex object>"
      ]
     },
     "metadata": {},
     "output_type": "display_data"
    },
    {
     "data": {
      "text/latex": [
       "Vanishing eigenvectors are:"
      ],
      "text/plain": [
       "<IPython.core.display.Latex object>"
      ]
     },
     "metadata": {},
     "output_type": "display_data"
    },
    {
     "data": {
      "text/latex": [
       "$\\vec{v} = $ $\\left[\\begin{matrix}1.0 & -0.7679 & -1.3301 & -1.1519 & 2.25\\end{matrix}\\right]$ "
      ],
      "text/plain": [
       "<IPython.core.display.Latex object>"
      ]
     },
     "metadata": {},
     "output_type": "display_data"
    },
    {
     "data": {
      "text/latex": [
       "$\\vec{v} = $ $\\left[\\begin{matrix}1.0 & -4.2321 & 7.3301 & -6.3481 & 2.25\\end{matrix}\\right]$ "
      ],
      "text/plain": [
       "<IPython.core.display.Latex object>"
      ]
     },
     "metadata": {},
     "output_type": "display_data"
    },
    {
     "data": {
      "text/latex": [
       "$\\vec{v} = $ $\\left[\\begin{matrix}1.0 & -2.5 & 0.0 & 3.75 & -2.25\\end{matrix}\\right]$ "
      ],
      "text/plain": [
       "<IPython.core.display.Latex object>"
      ]
     },
     "metadata": {},
     "output_type": "display_data"
    },
    {
     "data": {
      "text/latex": [
       "The analysis via eigenvectors says that, in the long run, this system should osciliate through the 1 distributions below."
      ],
      "text/plain": [
       "<IPython.core.display.Latex object>"
      ]
     },
     "metadata": {},
     "output_type": "display_data"
    },
    {
     "data": {
      "text/latex": [
       " $\\left[\\begin{matrix}0.3077 & 0.0 & 0.0 & 0.0 & 0.6923\\end{matrix}\\right]$ "
      ],
      "text/plain": [
       "array([[ 0.30769231,  0.        ,  0.        ,  0.        ,  0.69230769]])"
      ]
     },
     "metadata": {},
     "output_type": "display_data"
    },
    {
     "data": {
      "text/latex": [
       "The average of these distributions is  $\\left[\\begin{matrix}0.3077 & 0.0 & 0.0 & 0.0 & 0.6923\\end{matrix}\\right]$ "
      ],
      "text/plain": [
       "<IPython.core.display.Latex object>"
      ]
     },
     "metadata": {},
     "output_type": "display_data"
    },
    {
     "name": "stdout",
     "output_type": "stream",
     "text": [
      "\n",
      "\n",
      "\n"
     ]
    },
    {
     "data": {
      "text/latex": [
       "Now we relabel the states so that recurrence classes are together and transient states are last."
      ],
      "text/plain": [
       "<IPython.core.display.Latex object>"
      ]
     },
     "metadata": {},
     "output_type": "display_data"
    },
    {
     "data": {
      "text/latex": [
       "Here is the relabelling  $\\left[\\begin{matrix}0\\\\4\\\\1\\\\2\\\\3\\end{matrix}\\right]$  $\\mapsto$  $\\left[\\begin{matrix}0\\\\1\\\\2\\\\3\\\\4\\end{matrix}\\right]$ "
      ],
      "text/plain": [
       "<IPython.core.display.Latex object>"
      ]
     },
     "metadata": {},
     "output_type": "display_data"
    },
    {
     "data": {
      "text/latex": [
       "This permutes the rows and columns of $P$ into $\\bar{P}=$  $\\left[\\begin{matrix}1.0 & 0.0 & 0.0 & 0.0 & 0.0\\\\0.0 & 1.0 & 0.0 & 0.0 & 0.0\\\\0.4 & 0.0 & 0.0 & 0.6 & 0.0\\\\0.0 & 0.0 & 0.4 & 0.0 & 0.6\\\\0.0 & 0.6 & 0.0 & 0.4 & 0.0\\end{matrix}\\right]$ "
      ],
      "text/plain": [
       "<IPython.core.display.Latex object>"
      ]
     },
     "metadata": {},
     "output_type": "display_data"
    },
    {
     "data": {
      "text/latex": [
       "The following top, left submatrix corresponds to recurrent $\\to$ recurrent transitions $R=$  $\\left[\\begin{matrix}1.0 & 0.0\\\\0.0 & 1.0\\end{matrix}\\right]$ "
      ],
      "text/plain": [
       "<IPython.core.display.Latex object>"
      ]
     },
     "metadata": {},
     "output_type": "display_data"
    },
    {
     "data": {
      "text/latex": [
       "The following bottom, left submatrix corresponds to transient $\\to$ recurrent transitions $S=$  $\\left[\\begin{matrix}0.4 & 0.0\\\\0.0 & 0.0\\\\0.0 & 0.6\\end{matrix}\\right]$ "
      ],
      "text/plain": [
       "<IPython.core.display.Latex object>"
      ]
     },
     "metadata": {},
     "output_type": "display_data"
    },
    {
     "data": {
      "text/latex": [
       "The following bottom, right submatrix corresponds to transient $\\to$ transient transitions $Q=$  $\\left[\\begin{matrix}0.0 & 0.6 & 0.0\\\\0.4 & 0.0 & 0.6\\\\0.0 & 0.4 & 0.0\\end{matrix}\\right]$ "
      ],
      "text/plain": [
       "<IPython.core.display.Latex object>"
      ]
     },
     "metadata": {},
     "output_type": "display_data"
    },
    {
     "data": {
      "text/latex": [
       "The following top, right submatrix corresponds to recurrent $\\to$ transient transitions $Z=$  $\\left[\\begin{matrix}0.0 & 0.0 & 0.0\\\\0.0 & 0.0 & 0.0\\end{matrix}\\right]$ "
      ],
      "text/plain": [
       "<IPython.core.display.Latex object>"
      ]
     },
     "metadata": {},
     "output_type": "display_data"
    },
    {
     "data": {
      "text/latex": [
       "The matrix directly above had better contain all zeros."
      ],
      "text/plain": [
       "<IPython.core.display.Latex object>"
      ]
     },
     "metadata": {},
     "output_type": "display_data"
    },
    {
     "data": {
      "text/latex": [
       "As stated in Lawler, we compute $M=(I-Q)^{-1}=$  $\\left[\\begin{matrix}1.4615 & 1.1538 & 0.6923\\\\0.7692 & 1.9231 & 1.1538\\\\0.3077 & 0.7692 & 1.4615\\end{matrix}\\right]$ "
      ],
      "text/plain": [
       "<IPython.core.display.Latex object>"
      ]
     },
     "metadata": {},
     "output_type": "display_data"
    },
    {
     "data": {
      "text/latex": [
       "The $(i,j)$ entry of $M$ is the expected number of visits to state $j+2$ (transient) if chain starts at state $i+2$ (transient)."
      ],
      "text/plain": [
       "<IPython.core.display.Latex object>"
      ]
     },
     "metadata": {},
     "output_type": "display_data"
    },
    {
     "data": {
      "text/latex": [
       "So the sum across row $i$ is the expected absorption time if chain starts at state $i$"
      ],
      "text/plain": [
       "<IPython.core.display.Latex object>"
      ]
     },
     "metadata": {},
     "output_type": "display_data"
    },
    {
     "data": {
      "text/latex": [
       "I compute these expected absorption times to be  $\\left[\\begin{matrix}3.3077\\\\3.8462\\\\2.5385\\end{matrix}\\right]$ "
      ],
      "text/plain": [
       "<IPython.core.display.Latex object>"
      ]
     },
     "metadata": {},
     "output_type": "display_data"
    },
    {
     "data": {
      "text/latex": [
       "Now, for absorption probabilities.  As stated in Lawler, the $(i,j)$ entry of $MS$ is the probability of absorption at state $j$ (recurrent) if chain starts at state $i+2$ (transient)."
      ],
      "text/plain": [
       "<IPython.core.display.Latex object>"
      ]
     },
     "metadata": {},
     "output_type": "display_data"
    },
    {
     "data": {
      "text/latex": [
       "I compute these absorption probabilities to be  $\\left[\\begin{matrix}0.5846 & 0.4154\\\\0.3077 & 0.6923\\\\0.1231 & 0.8769\\end{matrix}\\right]$ "
      ],
      "text/plain": [
       "<IPython.core.display.Latex object>"
      ]
     },
     "metadata": {},
     "output_type": "display_data"
    },
    {
     "data": {
      "text/latex": [
       "If we contract recurrent classes, this becomes $\\left[\\begin{matrix}0.5846 & 0.4154\\\\0.3077 & 0.6923\\\\0.1231 & 0.8769\\end{matrix}\\right]$ "
      ],
      "text/plain": [
       "<IPython.core.display.Latex object>"
      ]
     },
     "metadata": {},
     "output_type": "display_data"
    },
    {
     "data": {
      "text/latex": [
       "Where the $(i,j)$ entry is the probability of absorption into recurrence class $j$ if chain starts if chain starts at state $i+2$ (transient)."
      ],
      "text/plain": [
       "<IPython.core.display.Latex object>"
      ]
     },
     "metadata": {},
     "output_type": "display_data"
    },
    {
     "name": "stdout",
     "output_type": "stream",
     "text": [
      "\n",
      "\n",
      "Doing reflecting boundary condition\n"
     ]
    },
    {
     "data": {
      "text/latex": [
       "Transition matrix is $P=$ $\\left[\\begin{matrix}0.0 & 1.0 & 0.0 & 0.0 & 0.0\\\\0.4 & 0.0 & 0.6 & 0.0 & 0.0\\\\0.0 & 0.4 & 0.0 & 0.6 & 0.0\\\\0.0 & 0.0 & 0.4 & 0.0 & 0.6\\\\0.0 & 0.0 & 0.0 & 1.0 & 0.0\\end{matrix}\\right]$ "
      ],
      "text/plain": [
       "<IPython.core.display.Latex object>"
      ]
     },
     "metadata": {},
     "output_type": "display_data"
    },
    {
     "data": {
      "text/latex": [
       "Initial distribution $\\phi=$ $\\left[\\begin{matrix}0.0 & 0.0 & 1.0 & 0.0 & 0.0\\end{matrix}\\right]$ "
      ],
      "text/plain": [
       "<IPython.core.display.Latex object>"
      ]
     },
     "metadata": {},
     "output_type": "display_data"
    },
    {
     "name": "stdout",
     "output_type": "stream",
     "text": [
      "\n",
      "\n"
     ]
    },
    {
     "data": {
      "text/latex": [
       "Simulating 500 steps with 5000 samples."
      ],
      "text/plain": [
       "<IPython.core.display.Latex object>"
      ]
     },
     "metadata": {},
     "output_type": "display_data"
    },
    {
     "data": {
      "text/latex": [
       "I did 500 steps with 5000 samples.  The last 10 distributions are written as rows below."
      ],
      "text/plain": [
       "<IPython.core.display.Latex object>"
      ]
     },
     "metadata": {},
     "output_type": "display_data"
    },
    {
     "data": {
      "text/latex": [
       " $\\left[\\begin{matrix}0.0 & 0.3058 & 0.0 & 0.6942 & 0.0\\\\0.1248 & 0.0 & 0.4622 & 0.0 & 0.413\\\\0.0 & 0.2974 & 0.0 & 0.7026 & 0.0\\\\0.1204 & 0.0 & 0.453 & 0.0 & 0.4266\\\\0.0 & 0.2942 & 0.0 & 0.7058 & 0.0\\\\0.1096 & 0.0 & 0.471 & 0.0 & 0.4194\\\\0.0 & 0.2892 & 0.0 & 0.7108 & 0.0\\\\0.1214 & 0.0 & 0.4552 & 0.0 & 0.4234\\\\0.0 & 0.3016 & 0.0 & 0.6984 & 0.0\\\\0.116 & 0.0 & 0.4628 & 0.0 & 0.4212\\end{matrix}\\right]$ "
      ],
      "text/plain": [
       "array([[ 0.    ,  0.3058,  0.    ,  0.6942,  0.    ],\n",
       "       [ 0.1248,  0.    ,  0.4622,  0.    ,  0.413 ],\n",
       "       [ 0.    ,  0.2974,  0.    ,  0.7026,  0.    ],\n",
       "       [ 0.1204,  0.    ,  0.453 ,  0.    ,  0.4266],\n",
       "       [ 0.    ,  0.2942,  0.    ,  0.7058,  0.    ],\n",
       "       [ 0.1096,  0.    ,  0.471 ,  0.    ,  0.4194],\n",
       "       [ 0.    ,  0.2892,  0.    ,  0.7108,  0.    ],\n",
       "       [ 0.1214,  0.    ,  0.4552,  0.    ,  0.4234],\n",
       "       [ 0.    ,  0.3016,  0.    ,  0.6984,  0.    ],\n",
       "       [ 0.116 ,  0.    ,  0.4628,  0.    ,  0.4212]])"
      ]
     },
     "metadata": {},
     "output_type": "display_data"
    },
    {
     "data": {
      "text/latex": [
       "The average of these distributions is  $\\left[\\begin{matrix}0.0592 & 0.1488 & 0.2304 & 0.3512 & 0.2104\\end{matrix}\\right]$ "
      ],
      "text/plain": [
       "<IPython.core.display.Latex object>"
      ]
     },
     "metadata": {},
     "output_type": "display_data"
    },
    {
     "data": {
      "text/latex": [
       "Absorbed proportions (by recurrence class)  $\\left[\\begin{matrix}0.116 & 0.0 & 0.4628 & 0.0 & 0.4212\\end{matrix}\\right]$ "
      ],
      "text/plain": [
       "<IPython.core.display.Latex object>"
      ]
     },
     "metadata": {},
     "output_type": "display_data"
    },
    {
     "data": {
      "image/png": "[encoded data removed]",
      "text/plain": [
       "<matplotlib.figure.Figure at 0x9f585f8>"
      ]
     },
     "metadata": {},
     "output_type": "display_data"
    },
    {
     "data": {
      "text/latex": [
       "Mean absorption time is 0.0"
      ],
      "text/plain": [
       "<IPython.core.display.Latex object>"
      ]
     },
     "metadata": {},
     "output_type": "display_data"
    },
    {
     "name": "stdout",
     "output_type": "stream",
     "text": [
      "\n",
      "\n"
     ]
    },
    {
     "data": {
      "text/latex": [
       "Evolving 500 steps via matrix multiplication."
      ],
      "text/plain": [
       "<IPython.core.display.Latex object>"
      ]
     },
     "metadata": {},
     "output_type": "display_data"
    },
    {
     "data": {
      "text/latex": [
       "I did 500 steps.  The last 10 distributions are written as rows below."
      ],
      "text/plain": [
       "<IPython.core.display.Latex object>"
      ]
     },
     "metadata": {},
     "output_type": "display_data"
    },
    {
     "data": {
      "text/latex": [
       " $\\left[\\begin{matrix}0.0 & 0.3077 & 0.0 & 0.6923 & 0.0\\\\0.1231 & 0.0 & 0.4615 & 0.0 & 0.4154\\\\0.0 & 0.3077 & 0.0 & 0.6923 & 0.0\\\\0.1231 & 0.0 & 0.4615 & 0.0 & 0.4154\\\\0.0 & 0.3077 & 0.0 & 0.6923 & 0.0\\\\0.1231 & 0.0 & 0.4615 & 0.0 & 0.4154\\\\0.0 & 0.3077 & 0.0 & 0.6923 & 0.0\\\\0.1231 & 0.0 & 0.4615 & 0.0 & 0.4154\\\\0.0 & 0.3077 & 0.0 & 0.6923 & 0.0\\\\0.1231 & 0.0 & 0.4615 & 0.0 & 0.4154\\end{matrix}\\right]$ "
      ],
      "text/plain": [
       "array([[ 0.        ,  0.30769231,  0.        ,  0.69230769,  0.        ],\n",
       "       [ 0.12307692,  0.        ,  0.46153846,  0.        ,  0.41538462],\n",
       "       [ 0.        ,  0.30769231,  0.        ,  0.69230769,  0.        ],\n",
       "       [ 0.12307692,  0.        ,  0.46153846,  0.        ,  0.41538462],\n",
       "       [ 0.        ,  0.30769231,  0.        ,  0.69230769,  0.        ],\n",
       "       [ 0.12307692,  0.        ,  0.46153846,  0.        ,  0.41538462],\n",
       "       [ 0.        ,  0.30769231,  0.        ,  0.69230769,  0.        ],\n",
       "       [ 0.12307692,  0.        ,  0.46153846,  0.        ,  0.41538462],\n",
       "       [ 0.        ,  0.30769231,  0.        ,  0.69230769,  0.        ],\n",
       "       [ 0.12307692,  0.        ,  0.46153846,  0.        ,  0.41538462]])"
      ]
     },
     "metadata": {},
     "output_type": "display_data"
    },
    {
     "data": {
      "text/latex": [
       "The average of these distributions is  $\\left[\\begin{matrix}0.0615 & 0.1538 & 0.2308 & 0.3462 & 0.2077\\end{matrix}\\right]$ "
      ],
      "text/plain": [
       "<IPython.core.display.Latex object>"
      ]
     },
     "metadata": {},
     "output_type": "display_data"
    },
    {
     "data": {
      "text/latex": [
       "Absorbed proportions (by recurrence class)  $\\left[\\begin{matrix}0.1231 & 0.0 & 0.4615 & 0.0 & 0.4154\\end{matrix}\\right]$ "
      ],
      "text/plain": [
       "<IPython.core.display.Latex object>"
      ]
     },
     "metadata": {},
     "output_type": "display_data"
    },
    {
     "data": {
      "image/png": "[encoded data removed]",
      "text/plain": [
       "<matplotlib.figure.Figure at 0xa6e7dd8>"
      ]
     },
     "metadata": {},
     "output_type": "display_data"
    },
    {
     "data": {
      "text/latex": [
       "Mean absorption time is 0.0"
      ],
      "text/plain": [
       "<IPython.core.display.Latex object>"
      ]
     },
     "metadata": {},
     "output_type": "display_data"
    },
    {
     "name": "stdout",
     "output_type": "stream",
     "text": [
      "\n",
      "\n"
     ]
    },
    {
     "data": {
      "text/latex": [
       "Using eigenvectors and eigenvalues to find long term behavior."
      ],
      "text/plain": [
       "<IPython.core.display.Latex object>"
      ]
     },
     "metadata": {},
     "output_type": "display_data"
    },
    {
     "data": {
      "text/latex": [
       "left eigenvectors = rows of  $\\left[\\begin{matrix}0.0615 & 0.1538 & 0.2308 & 0.3462 & 0.2077\\\\1.0 & -2.5 & 3.75 & -5.625 & 3.375\\\\1.0 & 1.7321 & 0.5 & -1.7321 & -1.5\\\\1.0 & -1.7321 & 0.5 & 1.7321 & -1.5\\\\1.0 & 0.0 & -2.5 & 0.0 & 1.5\\end{matrix}\\right]$ ,  $\\lambda =$ $\\left[\\begin{matrix}1.0\\\\-1.0\\\\0.6928\\\\-0.6928\\\\0.0\\end{matrix}\\right]$ ,  $| \\lambda | =$ $\\left[\\begin{matrix}1.0\\\\1.0\\\\0.6928\\\\0.6928\\\\0.0\\end{matrix}\\right]$ "
      ],
      "text/plain": [
       "<IPython.core.display.Latex object>"
      ]
     },
     "metadata": {},
     "output_type": "display_data"
    },
    {
     "name": "stdout",
     "output_type": "stream",
     "text": [
      "\n",
      "\n",
      "\n"
     ]
    },
    {
     "data": {
      "text/latex": [
       "Recurrence Class 0"
      ],
      "text/plain": [
       "<IPython.core.display.Latex object>"
      ]
     },
     "metadata": {},
     "output_type": "display_data"
    },
    {
     "data": {
      "text/latex": [
       "States =  $\\left[\\begin{matrix}0 & 1 & 2 & 3 & 4\\end{matrix}\\right]$ "
      ],
      "text/plain": [
       "<IPython.core.display.Latex object>"
      ]
     },
     "metadata": {},
     "output_type": "display_data"
    },
    {
     "data": {
      "text/latex": [
       "Period = 2"
      ],
      "text/plain": [
       "<IPython.core.display.Latex object>"
      ]
     },
     "metadata": {},
     "output_type": "display_data"
    },
    {
     "data": {
      "text/latex": [
       "The stationary/invariant distribution for this recurrence class is:"
      ],
      "text/plain": [
       "<IPython.core.display.Latex object>"
      ]
     },
     "metadata": {},
     "output_type": "display_data"
    },
    {
     "data": {
      "text/latex": [
       "$\\vec{\\pi} = $ $\\left[\\begin{matrix}0.0615 & 0.1538 & 0.2308 & 0.3462 & 0.2077\\end{matrix}\\right]$ "
      ],
      "text/plain": [
       "<IPython.core.display.Latex object>"
      ]
     },
     "metadata": {},
     "output_type": "display_data"
    },
    {
     "data": {
      "text/latex": [
       "Other persistent eigenvectors for this recurrence class are:"
      ],
      "text/plain": [
       "<IPython.core.display.Latex object>"
      ]
     },
     "metadata": {},
     "output_type": "display_data"
    },
    {
     "data": {
      "text/latex": [
       "$\\vec{v} = $ $\\left[\\begin{matrix}1.0 & -2.5 & 3.75 & -5.625 & 3.375\\end{matrix}\\right]$ "
      ],
      "text/plain": [
       "<IPython.core.display.Latex object>"
      ]
     },
     "metadata": {},
     "output_type": "display_data"
    },
    {
     "name": "stdout",
     "output_type": "stream",
     "text": [
      "\n",
      "\n",
      "\n"
     ]
    },
    {
     "data": {
      "text/latex": [
       "Transient States"
      ],
      "text/plain": [
       "<IPython.core.display.Latex object>"
      ]
     },
     "metadata": {},
     "output_type": "display_data"
    },
    {
     "data": {
      "text/latex": [
       "States  $\\left[\\begin{matrix}\\end{matrix}\\right]$ "
      ],
      "text/plain": [
       "<IPython.core.display.Latex object>"
      ]
     },
     "metadata": {},
     "output_type": "display_data"
    },
    {
     "data": {
      "text/latex": [
       "Vanishing eigenvectors are:"
      ],
      "text/plain": [
       "<IPython.core.display.Latex object>"
      ]
     },
     "metadata": {},
     "output_type": "display_data"
    },
    {
     "data": {
      "text/latex": [
       "$\\vec{v} = $ $\\left[\\begin{matrix}1.0 & 1.7321 & 0.5 & -1.7321 & -1.5\\end{matrix}\\right]$ "
      ],
      "text/plain": [
       "<IPython.core.display.Latex object>"
      ]
     },
     "metadata": {},
     "output_type": "display_data"
    },
    {
     "data": {
      "text/latex": [
       "$\\vec{v} = $ $\\left[\\begin{matrix}1.0 & -1.7321 & 0.5 & 1.7321 & -1.5\\end{matrix}\\right]$ "
      ],
      "text/plain": [
       "<IPython.core.display.Latex object>"
      ]
     },
     "metadata": {},
     "output_type": "display_data"
    },
    {
     "data": {
      "text/latex": [
       "$\\vec{v} = $ $\\left[\\begin{matrix}1.0 & 0.0 & -2.5 & 0.0 & 1.5\\end{matrix}\\right]$ "
      ],
      "text/plain": [
       "<IPython.core.display.Latex object>"
      ]
     },
     "metadata": {},
     "output_type": "display_data"
    },
    {
     "data": {
      "text/latex": [
       "The analysis via eigenvectors says that, in the long run, this system should osciliate through the 2 distributions below."
      ],
      "text/plain": [
       "<IPython.core.display.Latex object>"
      ]
     },
     "metadata": {},
     "output_type": "display_data"
    },
    {
     "data": {
      "text/latex": [
       " $\\left[\\begin{matrix}0.0 & 0.3077 & 0.0 & 0.6923 & 0.0\\\\0.1231 & 0.0 & 0.4615 & 0.0 & 0.4154\\end{matrix}\\right]$ "
      ],
      "text/plain": [
       "array([[ -1.66533454e-16,   3.07692308e-01,  -7.60262579e-16,\n",
       "          6.92307692e-01,  -7.49800862e-17],\n",
       "       [  1.23076923e-01,  -5.59861986e-16,   4.61538462e-01,\n",
       "         -7.62330904e-16,   4.15384615e-01]])"
      ]
     },
     "metadata": {},
     "output_type": "display_data"
    },
    {
     "data": {
      "text/latex": [
       "The average of these distributions is  $\\left[\\begin{matrix}0.0615 & 0.1538 & 0.2308 & 0.3462 & 0.2077\\end{matrix}\\right]$ "
      ],
      "text/plain": [
       "<IPython.core.display.Latex object>"
      ]
     },
     "metadata": {},
     "output_type": "display_data"
    },
    {
     "name": "stdout",
     "output_type": "stream",
     "text": [
      "\n",
      "\n",
      "\n"
     ]
    },
    {
     "data": {
      "text/latex": [
       "Now we relabel the states so that recurrence classes are together and transient states are last."
      ],
      "text/plain": [
       "<IPython.core.display.Latex object>"
      ]
     },
     "metadata": {},
     "output_type": "display_data"
    },
    {
     "data": {
      "text/latex": [
       "Here is the relabelling  $\\left[\\begin{matrix}0\\\\1\\\\2\\\\3\\\\4\\end{matrix}\\right]$  $\\mapsto$  $\\left[\\begin{matrix}0\\\\1\\\\2\\\\3\\\\4\\end{matrix}\\right]$ "
      ],
      "text/plain": [
       "<IPython.core.display.Latex object>"
      ]
     },
     "metadata": {},
     "output_type": "display_data"
    },
    {
     "data": {
      "text/latex": [
       "This permutes the rows and columns of $P$ into $\\bar{P}=$  $\\left[\\begin{matrix}0.0 & 1.0 & 0.0 & 0.0 & 0.0\\\\0.4 & 0.0 & 0.6 & 0.0 & 0.0\\\\0.0 & 0.4 & 0.0 & 0.6 & 0.0\\\\0.0 & 0.0 & 0.4 & 0.0 & 0.6\\\\0.0 & 0.0 & 0.0 & 1.0 & 0.0\\end{matrix}\\right]$ "
      ],
      "text/plain": [
       "<IPython.core.display.Latex object>"
      ]
     },
     "metadata": {},
     "output_type": "display_data"
    },
    {
     "data": {
      "text/latex": [
       "The following top, left submatrix corresponds to recurrent $\\to$ recurrent transitions $R=$  $\\left[\\begin{matrix}0.0 & 1.0 & 0.0 & 0.0 & 0.0\\\\0.4 & 0.0 & 0.6 & 0.0 & 0.0\\\\0.0 & 0.4 & 0.0 & 0.6 & 0.0\\\\0.0 & 0.0 & 0.4 & 0.0 & 0.6\\\\0.0 & 0.0 & 0.0 & 1.0 & 0.0\\end{matrix}\\right]$ "
      ],
      "text/plain": [
       "<IPython.core.display.Latex object>"
      ]
     },
     "metadata": {},
     "output_type": "display_data"
    },
    {
     "data": {
      "text/latex": [
       "The following bottom, left submatrix corresponds to transient $\\to$ recurrent transitions $S=$  $\\left[\\begin{matrix}\\end{matrix}\\right]$ "
      ],
      "text/plain": [
       "<IPython.core.display.Latex object>"
      ]
     },
     "metadata": {},
     "output_type": "display_data"
    },
    {
     "data": {
      "text/latex": [
       "The following bottom, right submatrix corresponds to transient $\\to$ transient transitions $Q=$  $\\left[\\begin{matrix}\\end{matrix}\\right]$ "
      ],
      "text/plain": [
       "<IPython.core.display.Latex object>"
      ]
     },
     "metadata": {},
     "output_type": "display_data"
    },
    {
     "data": {
      "text/latex": [
       "The following top, right submatrix corresponds to recurrent $\\to$ transient transitions $Z=$  $\\left[\\begin{matrix}\\end{matrix}\\right]$ "
      ],
      "text/plain": [
       "<IPython.core.display.Latex object>"
      ]
     },
     "metadata": {},
     "output_type": "display_data"
    },
    {
     "data": {
      "text/latex": [
       "The matrix directly above had better contain all zeros."
      ],
      "text/plain": [
       "<IPython.core.display.Latex object>"
      ]
     },
     "metadata": {},
     "output_type": "display_data"
    },
    {
     "data": {
      "text/latex": [
       "As stated in Lawler, we compute $M=(I-Q)^{-1}=$  $\\left[\\begin{matrix}\\end{matrix}\\right]$ "
      ],
      "text/plain": [
       "<IPython.core.display.Latex object>"
      ]
     },
     "metadata": {},
     "output_type": "display_data"
    },
    {
     "data": {
      "text/latex": [
       "The $(i,j)$ entry of $M$ is the expected number of visits to state $j+5$ (transient) if chain starts at state $i+5$ (transient)."
      ],
      "text/plain": [
       "<IPython.core.display.Latex object>"
      ]
     },
     "metadata": {},
     "output_type": "display_data"
    },
    {
     "data": {
      "text/latex": [
       "So the sum across row $i$ is the expected absorption time if chain starts at state $i$"
      ],
      "text/plain": [
       "<IPython.core.display.Latex object>"
      ]
     },
     "metadata": {},
     "output_type": "display_data"
    },
    {
     "data": {
      "text/latex": [
       "I compute these expected absorption times to be  $\\left[\\begin{matrix}\\end{matrix}\\right]$ "
      ],
      "text/plain": [
       "<IPython.core.display.Latex object>"
      ]
     },
     "metadata": {},
     "output_type": "display_data"
    },
    {
     "data": {
      "text/latex": [
       "Now, for absorption probabilities.  As stated in Lawler, the $(i,j)$ entry of $MS$ is the probability of absorption at state $j$ (recurrent) if chain starts at state $i+5$ (transient)."
      ],
      "text/plain": [
       "<IPython.core.display.Latex object>"
      ]
     },
     "metadata": {},
     "output_type": "display_data"
    },
    {
     "data": {
      "text/latex": [
       "I compute these absorption probabilities to be  $\\left[\\begin{matrix}\\end{matrix}\\right]$ "
      ],
      "text/plain": [
       "<IPython.core.display.Latex object>"
      ]
     },
     "metadata": {},
     "output_type": "display_data"
    },
    {
     "data": {
      "text/latex": [
       "If we contract recurrent classes, this becomes $\\left[\\begin{matrix}\\end{matrix}\\right]$ "
      ],
      "text/plain": [
       "<IPython.core.display.Latex object>"
      ]
     },
     "metadata": {},
     "output_type": "display_data"
    },
    {
     "data": {
      "text/latex": [
       "Where the $(i,j)$ entry is the probability of absorption into recurrence class $j$ if chain starts if chain starts at state $i+5$ (transient)."
      ],
      "text/plain": [
       "<IPython.core.display.Latex object>"
      ]
     },
     "metadata": {},
     "output_type": "display_data"
    },
    {
     "name": "stdout",
     "output_type": "stream",
     "text": [
      "\n",
      "\n",
      "Doing semi boundary condition\n"
     ]
    },
    {
     "data": {
      "text/latex": [
       "Transition matrix is $P=$ $\\left[\\begin{matrix}0.4 & 0.6 & 0.0 & 0.0 & 0.0\\\\0.4 & 0.0 & 0.6 & 0.0 & 0.0\\\\0.0 & 0.4 & 0.0 & 0.6 & 0.0\\\\0.0 & 0.0 & 0.4 & 0.0 & 0.6\\\\0.0 & 0.0 & 0.0 & 0.4 & 0.6\\end{matrix}\\right]$ "
      ],
      "text/plain": [
       "<IPython.core.display.Latex object>"
      ]
     },
     "metadata": {},
     "output_type": "display_data"
    },
    {
     "data": {
      "text/latex": [
       "Initial distribution $\\phi=$ $\\left[\\begin{matrix}0.0 & 0.0 & 1.0 & 0.0 & 0.0\\end{matrix}\\right]$ "
      ],
      "text/plain": [
       "<IPython.core.display.Latex object>"
      ]
     },
     "metadata": {},
     "output_type": "display_data"
    },
    {
     "name": "stdout",
     "output_type": "stream",
     "text": [
      "\n",
      "\n"
     ]
    },
    {
     "data": {
      "text/latex": [
       "Simulating 500 steps with 5000 samples."
      ],
      "text/plain": [
       "<IPython.core.display.Latex object>"
      ]
     },
     "metadata": {},
     "output_type": "display_data"
    },
    {
     "data": {
      "text/latex": [
       "I did 500 steps with 5000 samples.  The last 10 distributions are written as rows below."
      ],
      "text/plain": [
       "<IPython.core.display.Latex object>"
      ]
     },
     "metadata": {},
     "output_type": "display_data"
    },
    {
     "data": {
      "text/latex": [
       " $\\left[\\begin{matrix}0.078 & 0.1152 & 0.1776 & 0.2434 & 0.3858\\\\0.0796 & 0.1156 & 0.1648 & 0.2584 & 0.3816\\\\0.0764 & 0.1178 & 0.1708 & 0.2474 & 0.3876\\\\0.0842 & 0.1132 & 0.1706 & 0.2544 & 0.3776\\\\0.082 & 0.1192 & 0.168 & 0.2572 & 0.3736\\\\0.0784 & 0.1188 & 0.1774 & 0.2474 & 0.378\\\\0.0764 & 0.121 & 0.1714 & 0.2554 & 0.3758\\\\0.081 & 0.1084 & 0.1786 & 0.2548 & 0.3772\\\\0.0764 & 0.1226 & 0.1712 & 0.2516 & 0.3782\\\\0.08 & 0.1146 & 0.1682 & 0.2534 & 0.3838\\end{matrix}\\right]$ "
      ],
      "text/plain": [
       "array([[ 0.078 ,  0.1152,  0.1776,  0.2434,  0.3858],\n",
       "       [ 0.0796,  0.1156,  0.1648,  0.2584,  0.3816],\n",
       "       [ 0.0764,  0.1178,  0.1708,  0.2474,  0.3876],\n",
       "       [ 0.0842,  0.1132,  0.1706,  0.2544,  0.3776],\n",
       "       [ 0.082 ,  0.1192,  0.168 ,  0.2572,  0.3736],\n",
       "       [ 0.0784,  0.1188,  0.1774,  0.2474,  0.378 ],\n",
       "       [ 0.0764,  0.121 ,  0.1714,  0.2554,  0.3758],\n",
       "       [ 0.081 ,  0.1084,  0.1786,  0.2548,  0.3772],\n",
       "       [ 0.0764,  0.1226,  0.1712,  0.2516,  0.3782],\n",
       "       [ 0.08  ,  0.1146,  0.1682,  0.2534,  0.3838]])"
      ]
     },
     "metadata": {},
     "output_type": "display_data"
    },
    {
     "data": {
      "text/latex": [
       "The average of these distributions is  $\\left[\\begin{matrix}0.0792 & 0.1166 & 0.1719 & 0.2523 & 0.3799\\end{matrix}\\right]$ "
      ],
      "text/plain": [
       "<IPython.core.display.Latex object>"
      ]
     },
     "metadata": {},
     "output_type": "display_data"
    },
    {
     "data": {
      "text/latex": [
       "Absorbed proportions (by recurrence class)  $\\left[\\begin{matrix}0.08 & 0.1146 & 0.1682 & 0.2534 & 0.3838\\end{matrix}\\right]$ "
      ],
      "text/plain": [
       "<IPython.core.display.Latex object>"
      ]
     },
     "metadata": {},
     "output_type": "display_data"
    },
    {
     "data": {
      "image/png": "[encoded data removed]",
      "text/plain": [
       "<matplotlib.figure.Figure at 0xa6f9e10>"
      ]
     },
     "metadata": {},
     "output_type": "display_data"
    },
    {
     "data": {
      "text/latex": [
       "Mean absorption time is 0.0"
      ],
      "text/plain": [
       "<IPython.core.display.Latex object>"
      ]
     },
     "metadata": {},
     "output_type": "display_data"
    },
    {
     "name": "stdout",
     "output_type": "stream",
     "text": [
      "\n",
      "\n"
     ]
    },
    {
     "data": {
      "text/latex": [
       "Evolving 500 steps via matrix multiplication."
      ],
      "text/plain": [
       "<IPython.core.display.Latex object>"
      ]
     },
     "metadata": {},
     "output_type": "display_data"
    },
    {
     "data": {
      "text/latex": [
       "I did 500 steps.  The last 10 distributions are written as rows below."
      ],
      "text/plain": [
       "<IPython.core.display.Latex object>"
      ]
     },
     "metadata": {},
     "output_type": "display_data"
    },
    {
     "data": {
      "text/latex": [
       " $\\left[\\begin{matrix}0.0758 & 0.1137 & 0.1706 & 0.2559 & 0.3839\\\\0.0758 & 0.1137 & 0.1706 & 0.2559 & 0.3839\\\\0.0758 & 0.1137 & 0.1706 & 0.2559 & 0.3839\\\\0.0758 & 0.1137 & 0.1706 & 0.2559 & 0.3839\\\\0.0758 & 0.1137 & 0.1706 & 0.2559 & 0.3839\\\\0.0758 & 0.1137 & 0.1706 & 0.2559 & 0.3839\\\\0.0758 & 0.1137 & 0.1706 & 0.2559 & 0.3839\\\\0.0758 & 0.1137 & 0.1706 & 0.2559 & 0.3839\\\\0.0758 & 0.1137 & 0.1706 & 0.2559 & 0.3839\\\\0.0758 & 0.1137 & 0.1706 & 0.2559 & 0.3839\\end{matrix}\\right]$ "
      ],
      "text/plain": [
       "array([[ 0.07582938,  0.11374408,  0.17061611,  0.25592417,  0.38388626],\n",
       "       [ 0.07582938,  0.11374408,  0.17061611,  0.25592417,  0.38388626],\n",
       "       [ 0.07582938,  0.11374408,  0.17061611,  0.25592417,  0.38388626],\n",
       "       [ 0.07582938,  0.11374408,  0.17061611,  0.25592417,  0.38388626],\n",
       "       [ 0.07582938,  0.11374408,  0.17061611,  0.25592417,  0.38388626],\n",
       "       [ 0.07582938,  0.11374408,  0.17061611,  0.25592417,  0.38388626],\n",
       "       [ 0.07582938,  0.11374408,  0.17061611,  0.25592417,  0.38388626],\n",
       "       [ 0.07582938,  0.11374408,  0.17061611,  0.25592417,  0.38388626],\n",
       "       [ 0.07582938,  0.11374408,  0.17061611,  0.25592417,  0.38388626],\n",
       "       [ 0.07582938,  0.11374408,  0.17061611,  0.25592417,  0.38388626]])"
      ]
     },
     "metadata": {},
     "output_type": "display_data"
    },
    {
     "data": {
      "text/latex": [
       "The average of these distributions is  $\\left[\\begin{matrix}0.0758 & 0.1137 & 0.1706 & 0.2559 & 0.3839\\end{matrix}\\right]$ "
      ],
      "text/plain": [
       "<IPython.core.display.Latex object>"
      ]
     },
     "metadata": {},
     "output_type": "display_data"
    },
    {
     "data": {
      "text/latex": [
       "Absorbed proportions (by recurrence class)  $\\left[\\begin{matrix}0.0758 & 0.1137 & 0.1706 & 0.2559 & 0.3839\\end{matrix}\\right]$ "
      ],
      "text/plain": [
       "<IPython.core.display.Latex object>"
      ]
     },
     "metadata": {},
     "output_type": "display_data"
    },
    {
     "data": {
      "image/png": "[encoded data removed]",
      "text/plain": [
       "<matplotlib.figure.Figure at 0xa693940>"
      ]
     },
     "metadata": {},
     "output_type": "display_data"
    },
    {
     "data": {
      "text/latex": [
       "Mean absorption time is 0.0"
      ],
      "text/plain": [
       "<IPython.core.display.Latex object>"
      ]
     },
     "metadata": {},
     "output_type": "display_data"
    },
    {
     "name": "stdout",
     "output_type": "stream",
     "text": [
      "\n",
      "\n"
     ]
    },
    {
     "data": {
      "text/latex": [
       "Using eigenvectors and eigenvalues to find long term behavior."
      ],
      "text/plain": [
       "<IPython.core.display.Latex object>"
      ]
     },
     "metadata": {},
     "output_type": "display_data"
    },
    {
     "data": {
      "text/latex": [
       "left eigenvectors = rows of  $\\left[\\begin{matrix}0.0758 & 0.1137 & 0.1706 & 0.2559 & 0.3839\\\\1.0 & 0.9817 & 0.4454 & -0.5899 & -1.8371\\\\1.0 & -2.9817 & 4.4087 & -4.2642 & 1.8371\\\\1.0 & -0.2431 & -1.684 & -0.9101 & 1.8371\\\\1.0 & -1.7569 & -0.1701 & 2.7642 & -1.8371\\end{matrix}\\right]$ ,  $\\lambda =$ $\\left[\\begin{matrix}1.0\\\\0.7927\\\\-0.7927\\\\0.3028\\\\-0.3028\\end{matrix}\\right]$ ,  $| \\lambda | =$ $\\left[\\begin{matrix}1.0\\\\0.7927\\\\0.7927\\\\0.3028\\\\0.3028\\end{matrix}\\right]$ "
      ],
      "text/plain": [
       "<IPython.core.display.Latex object>"
      ]
     },
     "metadata": {},
     "output_type": "display_data"
    },
    {
     "name": "stdout",
     "output_type": "stream",
     "text": [
      "\n",
      "\n",
      "\n"
     ]
    },
    {
     "data": {
      "text/latex": [
       "Recurrence Class 0"
      ],
      "text/plain": [
       "<IPython.core.display.Latex object>"
      ]
     },
     "metadata": {},
     "output_type": "display_data"
    },
    {
     "data": {
      "text/latex": [
       "States =  $\\left[\\begin{matrix}0 & 1 & 2 & 3 & 4\\end{matrix}\\right]$ "
      ],
      "text/plain": [
       "<IPython.core.display.Latex object>"
      ]
     },
     "metadata": {},
     "output_type": "display_data"
    },
    {
     "data": {
      "text/latex": [
       "Period = 1"
      ],
      "text/plain": [
       "<IPython.core.display.Latex object>"
      ]
     },
     "metadata": {},
     "output_type": "display_data"
    },
    {
     "data": {
      "text/latex": [
       "The stationary/invariant distribution for this recurrence class is:"
      ],
      "text/plain": [
       "<IPython.core.display.Latex object>"
      ]
     },
     "metadata": {},
     "output_type": "display_data"
    },
    {
     "data": {
      "text/latex": [
       "$\\vec{\\pi} = $ $\\left[\\begin{matrix}0.0758 & 0.1137 & 0.1706 & 0.2559 & 0.3839\\end{matrix}\\right]$ "
      ],
      "text/plain": [
       "<IPython.core.display.Latex object>"
      ]
     },
     "metadata": {},
     "output_type": "display_data"
    },
    {
     "name": "stdout",
     "output_type": "stream",
     "text": [
      "\n",
      "\n",
      "\n"
     ]
    },
    {
     "data": {
      "text/latex": [
       "Transient States"
      ],
      "text/plain": [
       "<IPython.core.display.Latex object>"
      ]
     },
     "metadata": {},
     "output_type": "display_data"
    },
    {
     "data": {
      "text/latex": [
       "States  $\\left[\\begin{matrix}\\end{matrix}\\right]$ "
      ],
      "text/plain": [
       "<IPython.core.display.Latex object>"
      ]
     },
     "metadata": {},
     "output_type": "display_data"
    },
    {
     "data": {
      "text/latex": [
       "Vanishing eigenvectors are:"
      ],
      "text/plain": [
       "<IPython.core.display.Latex object>"
      ]
     },
     "metadata": {},
     "output_type": "display_data"
    },
    {
     "data": {
      "text/latex": [
       "$\\vec{v} = $ $\\left[\\begin{matrix}1.0 & 0.9817 & 0.4454 & -0.5899 & -1.8371\\end{matrix}\\right]$ "
      ],
      "text/plain": [
       "<IPython.core.display.Latex object>"
      ]
     },
     "metadata": {},
     "output_type": "display_data"
    },
    {
     "data": {
      "text/latex": [
       "$\\vec{v} = $ $\\left[\\begin{matrix}1.0 & -2.9817 & 4.4087 & -4.2642 & 1.8371\\end{matrix}\\right]$ "
      ],
      "text/plain": [
       "<IPython.core.display.Latex object>"
      ]
     },
     "metadata": {},
     "output_type": "display_data"
    },
    {
     "data": {
      "text/latex": [
       "$\\vec{v} = $ $\\left[\\begin{matrix}1.0 & -0.2431 & -1.684 & -0.9101 & 1.8371\\end{matrix}\\right]$ "
      ],
      "text/plain": [
       "<IPython.core.display.Latex object>"
      ]
     },
     "metadata": {},
     "output_type": "display_data"
    },
    {
     "data": {
      "text/latex": [
       "$\\vec{v} = $ $\\left[\\begin{matrix}1.0 & -1.7569 & -0.1701 & 2.7642 & -1.8371\\end{matrix}\\right]$ "
      ],
      "text/plain": [
       "<IPython.core.display.Latex object>"
      ]
     },
     "metadata": {},
     "output_type": "display_data"
    },
    {
     "data": {
      "text/latex": [
       "The analysis via eigenvectors says that, in the long run, this system should osciliate through the 1 distributions below."
      ],
      "text/plain": [
       "<IPython.core.display.Latex object>"
      ]
     },
     "metadata": {},
     "output_type": "display_data"
    },
    {
     "data": {
      "text/latex": [
       " $\\left[\\begin{matrix}0.0758 & 0.1137 & 0.1706 & 0.2559 & 0.3839\\end{matrix}\\right]$ "
      ],
      "text/plain": [
       "array([[ 0.07582938,  0.11374408,  0.17061611,  0.25592417,  0.38388626]])"
      ]
     },
     "metadata": {},
     "output_type": "display_data"
    },
    {
     "data": {
      "text/latex": [
       "The average of these distributions is  $\\left[\\begin{matrix}0.0758 & 0.1137 & 0.1706 & 0.2559 & 0.3839\\end{matrix}\\right]$ "
      ],
      "text/plain": [
       "<IPython.core.display.Latex object>"
      ]
     },
     "metadata": {},
     "output_type": "display_data"
    },
    {
     "name": "stdout",
     "output_type": "stream",
     "text": [
      "\n",
      "\n",
      "\n"
     ]
    },
    {
     "data": {
      "text/latex": [
       "Now we relabel the states so that recurrence classes are together and transient states are last."
      ],
      "text/plain": [
       "<IPython.core.display.Latex object>"
      ]
     },
     "metadata": {},
     "output_type": "display_data"
    },
    {
     "data": {
      "text/latex": [
       "Here is the relabelling  $\\left[\\begin{matrix}0\\\\1\\\\2\\\\3\\\\4\\end{matrix}\\right]$  $\\mapsto$  $\\left[\\begin{matrix}0\\\\1\\\\2\\\\3\\\\4\\end{matrix}\\right]$ "
      ],
      "text/plain": [
       "<IPython.core.display.Latex object>"
      ]
     },
     "metadata": {},
     "output_type": "display_data"
    },
    {
     "data": {
      "text/latex": [
       "This permutes the rows and columns of $P$ into $\\bar{P}=$  $\\left[\\begin{matrix}0.4 & 0.6 & 0.0 & 0.0 & 0.0\\\\0.4 & 0.0 & 0.6 & 0.0 & 0.0\\\\0.0 & 0.4 & 0.0 & 0.6 & 0.0\\\\0.0 & 0.0 & 0.4 & 0.0 & 0.6\\\\0.0 & 0.0 & 0.0 & 0.4 & 0.6\\end{matrix}\\right]$ "
      ],
      "text/plain": [
       "<IPython.core.display.Latex object>"
      ]
     },
     "metadata": {},
     "output_type": "display_data"
    },
    {
     "data": {
      "text/latex": [
       "The following top, left submatrix corresponds to recurrent $\\to$ recurrent transitions $R=$  $\\left[\\begin{matrix}0.4 & 0.6 & 0.0 & 0.0 & 0.0\\\\0.4 & 0.0 & 0.6 & 0.0 & 0.0\\\\0.0 & 0.4 & 0.0 & 0.6 & 0.0\\\\0.0 & 0.0 & 0.4 & 0.0 & 0.6\\\\0.0 & 0.0 & 0.0 & 0.4 & 0.6\\end{matrix}\\right]$ "
      ],
      "text/plain": [
       "<IPython.core.display.Latex object>"
      ]
     },
     "metadata": {},
     "output_type": "display_data"
    },
    {
     "data": {
      "text/latex": [
       "The following bottom, left submatrix corresponds to transient $\\to$ recurrent transitions $S=$  $\\left[\\begin{matrix}\\end{matrix}\\right]$ "
      ],
      "text/plain": [
       "<IPython.core.display.Latex object>"
      ]
     },
     "metadata": {},
     "output_type": "display_data"
    },
    {
     "data": {
      "text/latex": [
       "The following bottom, right submatrix corresponds to transient $\\to$ transient transitions $Q=$  $\\left[\\begin{matrix}\\end{matrix}\\right]$ "
      ],
      "text/plain": [
       "<IPython.core.display.Latex object>"
      ]
     },
     "metadata": {},
     "output_type": "display_data"
    },
    {
     "data": {
      "text/latex": [
       "The following top, right submatrix corresponds to recurrent $\\to$ transient transitions $Z=$  $\\left[\\begin{matrix}\\end{matrix}\\right]$ "
      ],
      "text/plain": [
       "<IPython.core.display.Latex object>"
      ]
     },
     "metadata": {},
     "output_type": "display_data"
    },
    {
     "data": {
      "text/latex": [
       "The matrix directly above had better contain all zeros."
      ],
      "text/plain": [
       "<IPython.core.display.Latex object>"
      ]
     },
     "metadata": {},
     "output_type": "display_data"
    },
    {
     "data": {
      "text/latex": [
       "As stated in Lawler, we compute $M=(I-Q)^{-1}=$  $\\left[\\begin{matrix}\\end{matrix}\\right]$ "
      ],
      "text/plain": [
       "<IPython.core.display.Latex object>"
      ]
     },
     "metadata": {},
     "output_type": "display_data"
    },
    {
     "data": {
      "text/latex": [
       "The $(i,j)$ entry of $M$ is the expected number of visits to state $j+5$ (transient) if chain starts at state $i+5$ (transient)."
      ],
      "text/plain": [
       "<IPython.core.display.Latex object>"
      ]
     },
     "metadata": {},
     "output_type": "display_data"
    },
    {
     "data": {
      "text/latex": [
       "So the sum across row $i$ is the expected absorption time if chain starts at state $i$"
      ],
      "text/plain": [
       "<IPython.core.display.Latex object>"
      ]
     },
     "metadata": {},
     "output_type": "display_data"
    },
    {
     "data": {
      "text/latex": [
       "I compute these expected absorption times to be  $\\left[\\begin{matrix}\\end{matrix}\\right]$ "
      ],
      "text/plain": [
       "<IPython.core.display.Latex object>"
      ]
     },
     "metadata": {},
     "output_type": "display_data"
    },
    {
     "data": {
      "text/latex": [
       "Now, for absorption probabilities.  As stated in Lawler, the $(i,j)$ entry of $MS$ is the probability of absorption at state $j$ (recurrent) if chain starts at state $i+5$ (transient)."
      ],
      "text/plain": [
       "<IPython.core.display.Latex object>"
      ]
     },
     "metadata": {},
     "output_type": "display_data"
    },
    {
     "data": {
      "text/latex": [
       "I compute these absorption probabilities to be  $\\left[\\begin{matrix}\\end{matrix}\\right]$ "
      ],
      "text/plain": [
       "<IPython.core.display.Latex object>"
      ]
     },
     "metadata": {},
     "output_type": "display_data"
    },
    {
     "data": {
      "text/latex": [
       "If we contract recurrent classes, this becomes $\\left[\\begin{matrix}\\end{matrix}\\right]$ "
      ],
      "text/plain": [
       "<IPython.core.display.Latex object>"
      ]
     },
     "metadata": {},
     "output_type": "display_data"
    },
    {
     "data": {
      "text/latex": [
       "Where the $(i,j)$ entry is the probability of absorption into recurrence class $j$ if chain starts if chain starts at state $i+5$ (transient)."
      ],
      "text/plain": [
       "<IPython.core.display.Latex object>"
      ]
     },
     "metadata": {},
     "output_type": "display_data"
    }
   ],
   "source": [
    "#Random walk on {0,1,2,...,States-1}\n",
    "p = 0.6\n",
    "q = 1 - p\n",
    "boundary = \"absorbing\"\n",
    "States = 5\n",
    "phi = np.zeros([States])\n",
    "phi[round((States-1)/2)] = 1\n",
    "#phi[1] = 1\n",
    "#phi = np.ones(5)/5\n",
    "Steps = 500 #total number of steps to take\n",
    "Records = 10\n",
    "Samples = 5000\n",
    "\n",
    "\n",
    "def make_P_for_random_walk(p,q,States,boundary):\n",
    "    if q > 1-p:\n",
    "        q = 1-p\n",
    "    r = 1-p-q\n",
    "    \n",
    "    P = np.zeros([States,States])\n",
    "    for i in range(1,States-1):\n",
    "        P[i,i-1]=q\n",
    "        P[i,i]=r\n",
    "        P[i,i+1]=p\n",
    "\n",
    "    if boundary == \"absorbing\":\n",
    "        P[0,0] = 1\n",
    "        P[-1,-1] = 1\n",
    "    elif boundary == \"reflecting\":\n",
    "        P[0,1] = 1\n",
    "        P[-1,-2] = 1\n",
    "    elif boundary == \"semi\":\n",
    "        P[0,0] = q+r\n",
    "        P[0,1] = p\n",
    "        P[-1,-2] = q\n",
    "        P[-1,-1] = p+r\n",
    "    else:\n",
    "        raise Exception(\"Invalid boundary condition\")\n",
    "    return P\n",
    "\n",
    "boundary = \"absorbing\"\n",
    "print(\"\\n\\nDoing \"+boundary+\" boundary condition\")\n",
    "P = make_P_for_random_walk(p,q,States,boundary)\n",
    "states_in_rec_classes = [[0],[States-1]]\n",
    "initial_checks(P,phi)\n",
    "simulate_samples(P,phi,Steps=Steps,Records=Records,states_in_rec_classes=states_in_rec_classes,tol=tol,Samples=Samples)\n",
    "matrix_evolution(P,phi,Steps=Steps,Records=Records,states_in_rec_classes=states_in_rec_classes,tol=tol)\n",
    "eigen_future(P,phi)\n",
    "\n",
    "\n",
    "\n",
    "boundary = \"reflecting\"\n",
    "print(\"\\n\\nDoing \"+boundary+\" boundary condition\")\n",
    "P = make_P_for_random_walk(p,q,States,boundary)\n",
    "states_in_rec_classes = range(States)\n",
    "initial_checks(P,phi)\n",
    "simulate_samples(P,phi,Steps=Steps,Records=Records,states_in_rec_classes=states_in_rec_classes,tol=tol,Samples=Samples)\n",
    "matrix_evolution(P,phi,Steps=Steps,Records=Records,states_in_rec_classes=states_in_rec_classes,tol=tol)\n",
    "eigen_future(P,phi)\n",
    "\n",
    "\n",
    "boundary = \"semi\"\n",
    "print(\"\\n\\nDoing \"+boundary+\" boundary condition\")\n",
    "P = make_P_for_random_walk(p,q,States,boundary)\n",
    "states_in_rec_classes = range(States)\n",
    "initial_checks(P,phi)\n",
    "simulate_samples(P,phi,Steps=Steps,Records=Records,states_in_rec_classes=states_in_rec_classes,tol=tol,Samples=Samples)\n",
    "matrix_evolution(P,phi,Steps=Steps,Records=Records,states_in_rec_classes=states_in_rec_classes,tol=tol)\n",
    "eigen_future(P,phi)"
   ]
  },
  {
   "cell_type": "code",
   "execution_count": 5,
   "metadata": {
    "collapsed": false,
    "scrolled": false
   },
   "outputs": [
    {
     "data": {
      "text/latex": [
       "Transition matrix is $P=$ $\\left[\\begin{matrix}0.3333 & 0.3333 & 0.3333\\\\0.25 & 0.25 & 0.5\\\\0.5 & 0.25 & 0.25\\end{matrix}\\right]$ "
      ],
      "text/plain": [
       "<IPython.core.display.Latex object>"
      ]
     },
     "metadata": {},
     "output_type": "display_data"
    },
    {
     "data": {
      "text/latex": [
       "Initial distribution $\\phi=$ $\\left[\\begin{matrix}0.125 & 0.25 & 0.625\\end{matrix}\\right]$ "
      ],
      "text/plain": [
       "<IPython.core.display.Latex object>"
      ]
     },
     "metadata": {},
     "output_type": "display_data"
    },
    {
     "name": "stdout",
     "output_type": "stream",
     "text": [
      "\n",
      "\n"
     ]
    },
    {
     "data": {
      "text/latex": [
       "Simulating 500 steps with 500 samples."
      ],
      "text/plain": [
       "<IPython.core.display.Latex object>"
      ]
     },
     "metadata": {},
     "output_type": "display_data"
    },
    {
     "data": {
      "text/latex": [
       "I did 500 steps with 499 samples.  The last 10 distributions are written as rows below."
      ],
      "text/plain": [
       "<IPython.core.display.Latex object>"
      ]
     },
     "metadata": {},
     "output_type": "display_data"
    },
    {
     "data": {
      "text/latex": [
       " $\\left[\\begin{matrix}0.3687 & 0.3166 & 0.3146\\\\0.3888 & 0.2685 & 0.3427\\\\0.3667 & 0.2725 & 0.3607\\\\0.3527 & 0.2806 & 0.3667\\\\0.3848 & 0.2645 & 0.3507\\\\0.3567 & 0.2886 & 0.3547\\\\0.3687 & 0.3246 & 0.3066\\\\0.3647 & 0.2846 & 0.3507\\\\0.3848 & 0.2846 & 0.3307\\\\0.3587 & 0.2986 & 0.3427\\end{matrix}\\right]$ "
      ],
      "text/plain": [
       "array([[ 0.36873747,  0.31663327,  0.31462926],\n",
       "       [ 0.38877756,  0.26853707,  0.34268537],\n",
       "       [ 0.36673347,  0.27254509,  0.36072144],\n",
       "       [ 0.35270541,  0.28056112,  0.36673347],\n",
       "       [ 0.38476954,  0.26452906,  0.3507014 ],\n",
       "       [ 0.35671343,  0.28857715,  0.35470942],\n",
       "       [ 0.36873747,  0.3246493 ,  0.30661323],\n",
       "       [ 0.36472946,  0.28456914,  0.3507014 ],\n",
       "       [ 0.38476954,  0.28456914,  0.33066132],\n",
       "       [ 0.35871743,  0.29859719,  0.34268537]])"
      ]
     },
     "metadata": {},
     "output_type": "display_data"
    },
    {
     "data": {
      "text/latex": [
       "The average of these distributions is  $\\left[\\begin{matrix}0.3695 & 0.2884 & 0.3421\\end{matrix}\\right]$ "
      ],
      "text/plain": [
       "<IPython.core.display.Latex object>"
      ]
     },
     "metadata": {},
     "output_type": "display_data"
    },
    {
     "data": {
      "text/latex": [
       "Absorbed proportions (by recurrence class)  $\\left[\\begin{matrix}1.0\\end{matrix}\\right]$ "
      ],
      "text/plain": [
       "<IPython.core.display.Latex object>"
      ]
     },
     "metadata": {},
     "output_type": "display_data"
    },
    {
     "data": {
      "image/png": "[encoded data removed]",
      "text/plain": [
       "<matplotlib.figure.Figure at 0x6442780>"
      ]
     },
     "metadata": {},
     "output_type": "display_data"
    },
    {
     "data": {
      "text/latex": [
       "Mean absorption time is 0.0"
      ],
      "text/plain": [
       "<IPython.core.display.Latex object>"
      ]
     },
     "metadata": {},
     "output_type": "display_data"
    },
    {
     "name": "stdout",
     "output_type": "stream",
     "text": [
      "\n",
      "\n"
     ]
    },
    {
     "data": {
      "text/latex": [
       "Evolving 500 steps via matrix multiplication."
      ],
      "text/plain": [
       "<IPython.core.display.Latex object>"
      ]
     },
     "metadata": {},
     "output_type": "display_data"
    },
    {
     "data": {
      "text/latex": [
       "I did 500 steps.  The last 10 distributions are written as rows below."
      ],
      "text/plain": [
       "<IPython.core.display.Latex object>"
      ]
     },
     "metadata": {},
     "output_type": "display_data"
    },
    {
     "data": {
      "text/latex": [
       " $\\left[\\begin{matrix}0.3684 & 0.2807 & 0.3509\\\\0.3684 & 0.2807 & 0.3509\\\\0.3684 & 0.2807 & 0.3509\\\\0.3684 & 0.2807 & 0.3509\\\\0.3684 & 0.2807 & 0.3509\\\\0.3684 & 0.2807 & 0.3509\\\\0.3684 & 0.2807 & 0.3509\\\\0.3684 & 0.2807 & 0.3509\\\\0.3684 & 0.2807 & 0.3509\\\\0.3684 & 0.2807 & 0.3509\\end{matrix}\\right]$ "
      ],
      "text/plain": [
       "array([[ 0.36842105,  0.28070175,  0.35087719],\n",
       "       [ 0.36842105,  0.28070175,  0.35087719],\n",
       "       [ 0.36842105,  0.28070175,  0.35087719],\n",
       "       [ 0.36842105,  0.28070175,  0.35087719],\n",
       "       [ 0.36842105,  0.28070175,  0.35087719],\n",
       "       [ 0.36842105,  0.28070175,  0.35087719],\n",
       "       [ 0.36842105,  0.28070175,  0.35087719],\n",
       "       [ 0.36842105,  0.28070175,  0.35087719],\n",
       "       [ 0.36842105,  0.28070175,  0.35087719],\n",
       "       [ 0.36842105,  0.28070175,  0.35087719]])"
      ]
     },
     "metadata": {},
     "output_type": "display_data"
    },
    {
     "data": {
      "text/latex": [
       "The average of these distributions is  $\\left[\\begin{matrix}0.3684 & 0.2807 & 0.3509\\end{matrix}\\right]$ "
      ],
      "text/plain": [
       "<IPython.core.display.Latex object>"
      ]
     },
     "metadata": {},
     "output_type": "display_data"
    },
    {
     "data": {
      "text/latex": [
       "Absorbed proportions (by recurrence class)  $\\left[\\begin{matrix}1.0\\end{matrix}\\right]$ "
      ],
      "text/plain": [
       "<IPython.core.display.Latex object>"
      ]
     },
     "metadata": {},
     "output_type": "display_data"
    },
    {
     "data": {
      "image/png": "[encoded data removed]",
      "text/plain": [
       "<matplotlib.figure.Figure at 0x9ec2c88>"
      ]
     },
     "metadata": {},
     "output_type": "display_data"
    },
    {
     "data": {
      "text/latex": [
       "Mean absorption time is 0.0"
      ],
      "text/plain": [
       "<IPython.core.display.Latex object>"
      ]
     },
     "metadata": {},
     "output_type": "display_data"
    },
    {
     "name": "stdout",
     "output_type": "stream",
     "text": [
      "\n",
      "\n"
     ]
    },
    {
     "data": {
      "text/latex": [
       "Using eigenvectors and eigenvalues to find long term behavior."
      ],
      "text/plain": [
       "<IPython.core.display.Latex object>"
      ]
     },
     "metadata": {},
     "output_type": "display_data"
    },
    {
     "data": {
      "text/latex": [
       "left eigenvectors = rows of  $\\left[\\begin{matrix}0.3684 & 0.2807 & 0.3509\\\\1.0 & -0.3333 - 0.4714 i & -0.6667 + 0.4714 i\\\\1.0 & -0.3333 + 0.4714 i & -0.6667 - 0.4714 i\\end{matrix}\\right]$ ,  $\\lambda =$ $\\left[\\begin{matrix}1.0\\\\-0.0833 + 0.1179 i\\\\-0.0833 - 0.1179 i\\end{matrix}\\right]$ ,  $| \\lambda | =$ $\\left[\\begin{matrix}1.0\\\\0.1443\\\\0.1443\\end{matrix}\\right]$ "
      ],
      "text/plain": [
       "<IPython.core.display.Latex object>"
      ]
     },
     "metadata": {},
     "output_type": "display_data"
    },
    {
     "name": "stdout",
     "output_type": "stream",
     "text": [
      "\n",
      "\n",
      "\n"
     ]
    },
    {
     "data": {
      "text/latex": [
       "Recurrence Class 0"
      ],
      "text/plain": [
       "<IPython.core.display.Latex object>"
      ]
     },
     "metadata": {},
     "output_type": "display_data"
    },
    {
     "data": {
      "text/latex": [
       "States =  $\\left[\\begin{matrix}0 & 1 & 2\\end{matrix}\\right]$ "
      ],
      "text/plain": [
       "<IPython.core.display.Latex object>"
      ]
     },
     "metadata": {},
     "output_type": "display_data"
    },
    {
     "data": {
      "text/latex": [
       "Period = 1"
      ],
      "text/plain": [
       "<IPython.core.display.Latex object>"
      ]
     },
     "metadata": {},
     "output_type": "display_data"
    },
    {
     "data": {
      "text/latex": [
       "The stationary/invariant distribution for this recurrence class is:"
      ],
      "text/plain": [
       "<IPython.core.display.Latex object>"
      ]
     },
     "metadata": {},
     "output_type": "display_data"
    },
    {
     "data": {
      "text/latex": [
       "$\\vec{\\pi} = $ $\\left[\\begin{matrix}0.3684 & 0.2807 & 0.3509\\end{matrix}\\right]$ "
      ],
      "text/plain": [
       "<IPython.core.display.Latex object>"
      ]
     },
     "metadata": {},
     "output_type": "display_data"
    },
    {
     "name": "stdout",
     "output_type": "stream",
     "text": [
      "\n",
      "\n",
      "\n"
     ]
    },
    {
     "data": {
      "text/latex": [
       "Transient States"
      ],
      "text/plain": [
       "<IPython.core.display.Latex object>"
      ]
     },
     "metadata": {},
     "output_type": "display_data"
    },
    {
     "data": {
      "text/latex": [
       "States  $\\left[\\begin{matrix}\\end{matrix}\\right]$ "
      ],
      "text/plain": [
       "<IPython.core.display.Latex object>"
      ]
     },
     "metadata": {},
     "output_type": "display_data"
    },
    {
     "data": {
      "text/latex": [
       "Vanishing eigenvectors are:"
      ],
      "text/plain": [
       "<IPython.core.display.Latex object>"
      ]
     },
     "metadata": {},
     "output_type": "display_data"
    },
    {
     "data": {
      "text/latex": [
       "$\\vec{v} = $ $\\left[\\begin{matrix}1.0 & -0.3333 - 0.4714 i & -0.6667 + 0.4714 i\\end{matrix}\\right]$ "
      ],
      "text/plain": [
       "<IPython.core.display.Latex object>"
      ]
     },
     "metadata": {},
     "output_type": "display_data"
    },
    {
     "data": {
      "text/latex": [
       "$\\vec{v} = $ $\\left[\\begin{matrix}1.0 & -0.3333 + 0.4714 i & -0.6667 - 0.4714 i\\end{matrix}\\right]$ "
      ],
      "text/plain": [
       "<IPython.core.display.Latex object>"
      ]
     },
     "metadata": {},
     "output_type": "display_data"
    },
    {
     "name": "stderr",
     "output_type": "stream",
     "text": [
      "C:\\Users\\scook\\AppData\\Local\\Continuum\\Anaconda3\\lib\\site-packages\\ipykernel\\__main__.py:230: ComplexWarning: Casting complex values to real discards the imaginary part\n"
     ]
    },
    {
     "data": {
      "text/latex": [
       "The analysis via eigenvectors says that, in the long run, this system should osciliate through the 1 distributions below."
      ],
      "text/plain": [
       "<IPython.core.display.Latex object>"
      ]
     },
     "metadata": {},
     "output_type": "display_data"
    },
    {
     "data": {
      "text/latex": [
       " $\\left[\\begin{matrix}0.3684 & 0.2807 & 0.3509\\end{matrix}\\right]$ "
      ],
      "text/plain": [
       "array([[ 0.36842105,  0.28070175,  0.35087719]])"
      ]
     },
     "metadata": {},
     "output_type": "display_data"
    },
    {
     "data": {
      "text/latex": [
       "The average of these distributions is  $\\left[\\begin{matrix}0.3684 & 0.2807 & 0.3509\\end{matrix}\\right]$ "
      ],
      "text/plain": [
       "<IPython.core.display.Latex object>"
      ]
     },
     "metadata": {},
     "output_type": "display_data"
    },
    {
     "name": "stdout",
     "output_type": "stream",
     "text": [
      "\n",
      "\n",
      "\n"
     ]
    },
    {
     "data": {
      "text/latex": [
       "Now we relabel the states so that recurrence classes are together and transient states are last."
      ],
      "text/plain": [
       "<IPython.core.display.Latex object>"
      ]
     },
     "metadata": {},
     "output_type": "display_data"
    },
    {
     "data": {
      "text/latex": [
       "Here is the relabelling  $\\left[\\begin{matrix}0\\\\1\\\\2\\end{matrix}\\right]$  $\\mapsto$  $\\left[\\begin{matrix}0\\\\1\\\\2\\end{matrix}\\right]$ "
      ],
      "text/plain": [
       "<IPython.core.display.Latex object>"
      ]
     },
     "metadata": {},
     "output_type": "display_data"
    },
    {
     "data": {
      "text/latex": [
       "This permutes the rows and columns of $P$ into $\\bar{P}=$  $\\left[\\begin{matrix}0.3333 & 0.3333 & 0.3333\\\\0.25 & 0.25 & 0.5\\\\0.5 & 0.25 & 0.25\\end{matrix}\\right]$ "
      ],
      "text/plain": [
       "<IPython.core.display.Latex object>"
      ]
     },
     "metadata": {},
     "output_type": "display_data"
    },
    {
     "data": {
      "text/latex": [
       "The following top, left submatrix corresponds to recurrent $\\to$ recurrent transitions $R=$  $\\left[\\begin{matrix}0.3333 & 0.3333 & 0.3333\\\\0.25 & 0.25 & 0.5\\\\0.5 & 0.25 & 0.25\\end{matrix}\\right]$ "
      ],
      "text/plain": [
       "<IPython.core.display.Latex object>"
      ]
     },
     "metadata": {},
     "output_type": "display_data"
    },
    {
     "data": {
      "text/latex": [
       "The following bottom, left submatrix corresponds to transient $\\to$ recurrent transitions $S=$  $\\left[\\begin{matrix}\\end{matrix}\\right]$ "
      ],
      "text/plain": [
       "<IPython.core.display.Latex object>"
      ]
     },
     "metadata": {},
     "output_type": "display_data"
    },
    {
     "data": {
      "text/latex": [
       "The following bottom, right submatrix corresponds to transient $\\to$ transient transitions $Q=$  $\\left[\\begin{matrix}\\end{matrix}\\right]$ "
      ],
      "text/plain": [
       "<IPython.core.display.Latex object>"
      ]
     },
     "metadata": {},
     "output_type": "display_data"
    },
    {
     "data": {
      "text/latex": [
       "The following top, right submatrix corresponds to recurrent $\\to$ transient transitions $Z=$  $\\left[\\begin{matrix}\\end{matrix}\\right]$ "
      ],
      "text/plain": [
       "<IPython.core.display.Latex object>"
      ]
     },
     "metadata": {},
     "output_type": "display_data"
    },
    {
     "data": {
      "text/latex": [
       "The matrix directly above had better contain all zeros."
      ],
      "text/plain": [
       "<IPython.core.display.Latex object>"
      ]
     },
     "metadata": {},
     "output_type": "display_data"
    },
    {
     "data": {
      "text/latex": [
       "As stated in Lawler, we compute $M=(I-Q)^{-1}=$  $\\left[\\begin{matrix}\\end{matrix}\\right]$ "
      ],
      "text/plain": [
       "<IPython.core.display.Latex object>"
      ]
     },
     "metadata": {},
     "output_type": "display_data"
    },
    {
     "data": {
      "text/latex": [
       "The $(i,j)$ entry of $M$ is the expected number of visits to state $j+3$ (transient) if chain starts at state $i+3$ (transient)."
      ],
      "text/plain": [
       "<IPython.core.display.Latex object>"
      ]
     },
     "metadata": {},
     "output_type": "display_data"
    },
    {
     "data": {
      "text/latex": [
       "So the sum across row $i$ is the expected absorption time if chain starts at state $i$"
      ],
      "text/plain": [
       "<IPython.core.display.Latex object>"
      ]
     },
     "metadata": {},
     "output_type": "display_data"
    },
    {
     "data": {
      "text/latex": [
       "I compute these expected absorption times to be  $\\left[\\begin{matrix}\\end{matrix}\\right]$ "
      ],
      "text/plain": [
       "<IPython.core.display.Latex object>"
      ]
     },
     "metadata": {},
     "output_type": "display_data"
    },
    {
     "data": {
      "text/latex": [
       "Now, for absorption probabilities.  As stated in Lawler, the $(i,j)$ entry of $MS$ is the probability of absorption at state $j$ (recurrent) if chain starts at state $i+3$ (transient)."
      ],
      "text/plain": [
       "<IPython.core.display.Latex object>"
      ]
     },
     "metadata": {},
     "output_type": "display_data"
    },
    {
     "data": {
      "text/latex": [
       "I compute these absorption probabilities to be  $\\left[\\begin{matrix}\\end{matrix}\\right]$ "
      ],
      "text/plain": [
       "<IPython.core.display.Latex object>"
      ]
     },
     "metadata": {},
     "output_type": "display_data"
    },
    {
     "data": {
      "text/latex": [
       "If we contract recurrent classes, this becomes $\\left[\\begin{matrix}\\end{matrix}\\right]$ "
      ],
      "text/plain": [
       "<IPython.core.display.Latex object>"
      ]
     },
     "metadata": {},
     "output_type": "display_data"
    },
    {
     "data": {
      "text/latex": [
       "Where the $(i,j)$ entry is the probability of absorption into recurrence class $j$ if chain starts if chain starts at state $i+3$ (transient)."
      ],
      "text/plain": [
       "<IPython.core.display.Latex object>"
      ]
     },
     "metadata": {},
     "output_type": "display_data"
    }
   ],
   "source": [
    "P = np.array([[1/3,1/3,1/3],[1/4,1/4,1/2],[1/2,1/4,1/4]])\n",
    "phi = np.array([1/8,1/4,5/8])\n",
    "Steps = 500 #total number of steps to take\n",
    "Records = 10 #To manage memory, we don't keep the entire history of the system.  We keep\n",
    "#the most recent \"Records\" states.\n",
    "Samples = 500\n",
    "\n",
    "initial_checks(P,phi)       \n",
    "simulate_samples(P,phi,Steps,Records,Samples)\n",
    "matrix_evolution(P,phi,Steps,Records)\n",
    "eigen_future(P,phi)"
   ]
  },
  {
   "cell_type": "markdown",
   "metadata": {},
   "source": [
    "There are actually two ways to find the left eigenvectors.  Both use np.linalg.eig which gives right eigenvectors.\n",
    "- do eig on $P$ to get $(D,R)$.  The rows of $R^{-1}$ are left evecs\n",
    "- do eig on $P^T$ to get $(DT,RT)$.   The rows of $RT^T$ are left evecs\n",
    "\n",
    "However, you do not get excactly the same left eigenvectors from these methods - they differ by scalar multiples.  This is not a problem, but it might make you skeptical.  The function normalize_rows scalar adjusts the original eigenvectors so we can see that that these two methods do actually agree."
   ]
  }
 ],
 "metadata": {
  "kernelspec": {
   "display_name": "Python [default]",
   "language": "python",
   "name": "python3"
  },
  "language_info": {
   "codemirror_mode": {
    "name": "ipython",
    "version": 3
   },
   "file_extension": ".py",
   "mimetype": "text/x-python",
   "name": "python",
   "nbconvert_exporter": "python",
   "pygments_lexer": "ipython3",
   "version": "3.5.2"
  },
  "latex_envs": {
   "LaTeX_envs_menu_present": true,
   "bibliofile": "biblio.bib",
   "cite_by": "apalike",
   "current_citInitial": 1,
   "eqLabelWithNumbers": true,
   "eqNumInitial": 1,
   "labels_anchors": false,
   "latex_user_defs": false,
   "report_style_numbering": false,
   "user_envs_cfg": false
  },
  "toc": {
   "colors": {
    "hover_highlight": "#DAA520",
    "running_highlight": "#FF0000",
    "selected_highlight": "#FFD700"
   },
   "moveMenuLeft": true,
   "nav_menu": {
    "height": "12px",
    "width": "252px"
   },
   "navigate_menu": true,
   "number_sections": true,
   "sideBar": true,
   "threshold": 4,
   "toc_cell": false,
   "toc_section_display": "block",
   "toc_window_display": false
  }
 },
 "nbformat": 4,
 "nbformat_minor": 0
}
